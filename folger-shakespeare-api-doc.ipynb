{
 "cells": [
  {
   "cell_type": "markdown",
   "id": "e973be06",
   "metadata": {},
   "source": [
    "# Understanding and re-documenting the *Folger Shakespeare API Tools* \n",
    "\n",
    "Author: Ingo Börner\n",
    "\n",
    "This notebook is used to evaluate the \"Folger Shakespeare API Tools\" for the report on \"Programmable Corpora\" within the CLS INFRA project. \n",
    "\n",
    "The notebook generates an OpenAPI documentation for the Folger API, that documents it in a standardized way. \n",
    "\n",
    "It also contains some observations about the API that wil eventually be elaborated in more detail in the upcoming report. \n",
    "\n",
    "It could also be reworked to some kind of Python API wrapper (we will see).\n",
    "\n",
    "Official HTML Documentation see https://www.folgerdigitaltexts.org/api"
   ]
  },
  {
   "cell_type": "code",
   "execution_count": 1,
   "id": "cd2ebc98",
   "metadata": {},
   "outputs": [],
   "source": [
    "#!pip install apispec\n",
    "#!pip install marshmallow"
   ]
  },
  {
   "cell_type": "code",
   "execution_count": 2,
   "id": "bc2e0832",
   "metadata": {},
   "outputs": [],
   "source": [
    "# Packages used for Documentation and schemas\n",
    "# https://apispec.readthedocs.io/\n",
    "from apispec import APISpec\n",
    "from apispec.ext.marshmallow import MarshmallowPlugin\n",
    "from marshmallow import Schema, fields"
   ]
  },
  {
   "cell_type": "code",
   "execution_count": 3,
   "id": "d668b3b4",
   "metadata": {},
   "outputs": [],
   "source": [
    "#!pip install PyYAML"
   ]
  },
  {
   "cell_type": "code",
   "execution_count": 4,
   "id": "46f4ced8",
   "metadata": {},
   "outputs": [],
   "source": [
    "# Packages used for writing the specification\n",
    "import yaml\n",
    "import json"
   ]
  },
  {
   "cell_type": "code",
   "execution_count": 5,
   "id": "3b1df750",
   "metadata": {},
   "outputs": [],
   "source": [
    "# Send HTTP Requests to the API\n",
    "import requests"
   ]
  },
  {
   "cell_type": "code",
   "execution_count": 6,
   "id": "839c4c1e",
   "metadata": {},
   "outputs": [],
   "source": [
    "#service URL of the Folger Shakespeare API Tools\n",
    "SERVICE_BASE = \"https://www.folgerdigitaltexts.org\""
   ]
  },
  {
   "cell_type": "markdown",
   "id": "71dd8f52",
   "metadata": {},
   "source": [
    "### Setting up a dummy API with `flask`\n",
    "\n",
    "This probably is a workaround: We need some dummy API to generate the OpenAPI Documentation from. We use `flask` and the package `apispec` to make use of the docstrings and path annotations to the functions calling the real Folger API. "
   ]
  },
  {
   "cell_type": "code",
   "execution_count": 7,
   "id": "1edbf499",
   "metadata": {},
   "outputs": [],
   "source": [
    "#!pip install flask"
   ]
  },
  {
   "cell_type": "code",
   "execution_count": 8,
   "id": "e0333a5d",
   "metadata": {},
   "outputs": [],
   "source": [
    "#!pip install apispec_webframeworks"
   ]
  },
  {
   "cell_type": "code",
   "execution_count": 9,
   "id": "2bb2e2e1",
   "metadata": {},
   "outputs": [],
   "source": [
    "#we setup a dummy api with flask\n",
    "import flask\n",
    "from apispec_webframeworks.flask import FlaskPlugin"
   ]
  },
  {
   "cell_type": "code",
   "execution_count": 10,
   "id": "04c7c22d",
   "metadata": {},
   "outputs": [],
   "source": [
    "api = flask.Flask(__name__)"
   ]
  },
  {
   "cell_type": "markdown",
   "id": "a628a503",
   "metadata": {},
   "source": [
    "## Exploring and re-documenting the API"
   ]
  },
  {
   "cell_type": "markdown",
   "id": "f8598a7b",
   "metadata": {},
   "source": [
    "The official API offers two drop-down menues to \"build\" queries to the API:\n",
    "\n",
    "![Dropdown with play codes and functions](images/play-codes_functions_dropdowns.png)\n",
    "\n",
    "There doesn't see to be a function to request all the IDs of the plays available. Therefore we had to hardcode the IDs in the following dictionary."
   ]
  },
  {
   "cell_type": "code",
   "execution_count": 11,
   "id": "b471f437",
   "metadata": {},
   "outputs": [],
   "source": [
    "#Each play has its identifier (\"play code\") – see Official Documention:\n",
    "# put that codes into a dictionary, maybe reuse in a schema later\n",
    "\n",
    "PLAYCODES = {\n",
    "    \"AWW\" : \"All's Well That Ends Well\",\n",
    "    \"Ant\" : \"Antony and Cleopatra\",\n",
    "    \"AYL\" : \"As You Like It\",\n",
    "    \"Err\" : \"The Comedy of Errors\",\n",
    "    \"Cor\" : \"Coriolanus\",\n",
    "    \"Cym\" : \"Cymbeline\",\n",
    "    \"Ham\" : \"Hamlet\",\n",
    "    \"1H4\" : \"Henry IV, Part 1\",\n",
    "    \"2H4\" : \"Henry IV, Part 2\",\n",
    "    \"H5\" : \"Henry V\",\n",
    "    \"1H6\" : \"Henry VI, Part 1\",\n",
    "    \"2H6\" : \"Henry VI, Part 2\",\n",
    "    \"3H6\" : \"Henry VI, Part 3\",\n",
    "    \"H8\" : \"Henry VIII\",\n",
    "    \"JC\" : \"Julius Caesar\",\n",
    "    \"Jn\" : \"King John\",\n",
    "    \"Lr\" : \"King Lear\",\n",
    "    \"LLL\" : \"Love's Labor's Lost\",\n",
    "    \"Mac\" : \"Macbeth\",\n",
    "    \"MM\" : \"Measure for Measure\",\n",
    "    \"MV\" : \"The Merchant of Venice\",\n",
    "    \"Wiv\" : \"The Merry Wives of Windsor\",\n",
    "    \"MND\" : \"A Midsummer Night's Dream\",\n",
    "    \"Ado\" : \"Much Ado About Nothing\" ,\n",
    "    \"Oth\" : \"Othello\",\n",
    "    \"Per\" : \"Pericles\",\n",
    "    \"R2\" : \"Richard II\",\n",
    "    \"R3\" : \"Richard III\",\n",
    "    \"Rom\" : \"Romeo and Juliet\",\n",
    "    \"Shr\" : \"The Taming of the Shrew\", \n",
    "    \"Tmp\" : \"The Tempest\",\n",
    "    \"Tim\" : \"Timon of Athens\",\n",
    "    \"Tit\" : \"Titus Andronicus\",\n",
    "    \"Tro\" : \"Troilus and Cressida\",\n",
    "    \"TN\" : \"Twelfth Night\",\n",
    "    \"TGV\" : \"Two Gentlemen of Verona\",\n",
    "    \"TNK\" : \"Two Noble Kinsmen\",\n",
    "    \"WT\" : \"The Winter's Tale\"\n",
    "}\n"
   ]
  },
  {
   "cell_type": "code",
   "execution_count": 12,
   "id": "08c09fa4",
   "metadata": {},
   "outputs": [
    {
     "name": "stdout",
     "output_type": "stream",
     "text": [
      "There are 38 play codes.\n"
     ]
    }
   ],
   "source": [
    "print(\"There are \" + str(len(PLAYCODES.keys())) + \" play codes.\")"
   ]
  },
  {
   "cell_type": "code",
   "execution_count": 13,
   "id": "79140eec",
   "metadata": {},
   "outputs": [],
   "source": [
    "# as a marshmallow schema to be re-used\n",
    "class play_codes_schema(Schema):\n",
    "    playcode = fields.String(\n",
    "        required=True,\n",
    "        metadata={\n",
    "            \"enum\": list(PLAYCODES.keys())\n",
    "        }\n",
    "    )"
   ]
  },
  {
   "cell_type": "markdown",
   "id": "ca08b91d",
   "metadata": {},
   "source": [
    "The official documentation lists the **15** following functions:\n",
    "\n",
    "* **synopsis**: (+ act/scene, optionally) returns a synopsis of the play and its scenes\n",
    "* **ftln** (+ Folger through line number): returns the spoken text at that FTLN\n",
    "* **word** (+ word id) : returns information about that word\n",
    "* **segment** (+ object id) : returns the text of that xml:id\n",
    "* **text**: returns only the spoken text in that play\n",
    "* **charText**: returns a list of characters arranged according to amount of lines spoken, with a link to each character's entire spoken text\n",
    "* **charTextMinus**: returns a list of characters arranged according to amount of lines spoken, with a link to the play's spoken text, minus this character\n",
    "* **concordance**: lists the words used (in spoken text) and their frequency\n",
    "* **monologue** (+ optional line count): provides a list of speeches longer than the given line count (defaults to 30 lines)\n",
    "* **onStage** (+ ftln): returns a list of characters on stage at that line\n",
    "* **charChart**: provides a graphical representation of who is on stage across a timeline of the play\n",
    "* **parts**: provides parts or cue scripts for each character\n",
    "* **witScript**: provides \"witScripts\" for each character. \"Witness\" or \"Witmore\" scripts attempt to show what a character sees. They offer the play text only when that character is on stage.\n",
    "* **sounds**: returns a list of all stage directions that contain sounds (i.e., \"music,\" \"flourish,\" \"thunder\")\n",
    "* **scenes**: returns a list of all the scenes in the play\n",
    "\n",
    "(cf. Official API Documentation)\n",
    "\n",
    "They will be turned into Python functions."
   ]
  },
  {
   "cell_type": "markdown",
   "id": "e34cc25d",
   "metadata": {},
   "source": [
    "Some general remarks on the documentation/api at that point:\n",
    "\n",
    "* not machine-readable. The documentation of the API is indended for humans. One can use it, because it documents all (?) endpoints, offers a description of what an endpoint does; also has some examples.\n",
    "* there are not examples for all functions, e.g. functions without examples: `segment`, `charText`, `charTextMinus`, `monologue`, `sounds`.\n",
    "* The return format is not specified; it might be the case, that it's always HTML pages, but we will see.\n",
    "* it might be actually hard to use the API because there is no way of getting possible values for parameters, e.g. how to know which characters are there to put in `https://www.folgerdigitaltexts.org/Mac/parts/{character-id}.html`. There are \"discovery endpoints\" missing, that would allow a user to retrieve these values, I think."
   ]
  },
  {
   "cell_type": "markdown",
   "id": "f744a0e3",
   "metadata": {},
   "source": [
    "### Helper Functions\n",
    "These are not functions provided by the Folger API. We need them for evaluating the API endpoint and handling the response."
   ]
  },
  {
   "cell_type": "code",
   "execution_count": 14,
   "id": "7f228292",
   "metadata": {},
   "outputs": [],
   "source": [
    "def test_accept_header(url:str, mime:str) -> str:\n",
    "    \"\"\"Formats that can be used in the accept header.\n",
    "    \n",
    "    The function requests data from an URL sending a GET request with an \n",
    "    explicitly set \"Accept\" Header. It returns the Content-Type\n",
    "    from the reponse header. If the endpoint supports different Media-Types\n",
    "    it should be the same as in the Accept header of the request.\n",
    "    \n",
    "    Args:\n",
    "        url (str): Url to send a request to.\n",
    "        mime (str): Format to test, e.g. \"application/xml\".\n",
    "    \n",
    "    Returns:\n",
    "        str: Content-Type from the Response Header. \n",
    "    \"\"\"\n",
    "    headers = {\"Accept\" : mime}\n",
    "    r = requests.get(url, headers=headers)\n",
    "    \n",
    "    return r.headers[\"Content-Type\"]\n",
    "    "
   ]
  },
  {
   "cell_type": "code",
   "execution_count": 15,
   "id": "1fae08e6",
   "metadata": {},
   "outputs": [],
   "source": [
    "def test_accept_header_formats(url:str) -> dict:\n",
    "    \"\"\"Test for different response formats.\n",
    "    \n",
    "    Tests for some standard mime-types: \n",
    "        \"text/html\", \"text/csv\", \"text/plain\", \"application/xml\", \n",
    "        \"application/tei+xml\", \"application/json\"\n",
    "    \n",
    "    Args:\n",
    "        url (str): A request URL to test against the formats.\n",
    "    \n",
    "    Returns:\n",
    "        dict: A report containing the mime-type and value True/False.\n",
    "            True means it is actually returned when requested.\n",
    "    \"\"\"\n",
    "    #some standard types that we could accept\n",
    "    mime_types_to_test = [\"text/html\",\n",
    "                          \"text/csv\", \n",
    "                          \"text/plain\",\n",
    "                          \"application/xml\", \n",
    "                          \"application/tei+xml\",\n",
    "                          \"application/json\"]\n",
    "    report = {}\n",
    "    for mime_type in mime_types_to_test:\n",
    "        headers = {\"Accept\" : mime_type}\n",
    "        r = requests.get(url,headers=headers)\n",
    "        if r.status_code == 200:\n",
    "            content_type = r.headers[\"Content-Type\"].split(\";\")[0].strip()\n",
    "            if content_type == mime_type:\n",
    "                #set to True if the mime type is actually returned\n",
    "                report[mime_type] = True\n",
    "            else:\n",
    "                report[mime_type] = False\n",
    "    \n",
    "    return report"
   ]
  },
  {
   "cell_type": "code",
   "execution_count": 16,
   "id": "bfb25673",
   "metadata": {},
   "outputs": [
    {
     "data": {
      "text/plain": [
       "{'text/html': True,\n",
       " 'text/csv': False,\n",
       " 'text/plain': False,\n",
       " 'application/xml': False,\n",
       " 'application/tei+xml': False,\n",
       " 'application/json': False}"
      ]
     },
     "execution_count": 16,
     "metadata": {},
     "output_type": "execute_result"
    }
   ],
   "source": [
    "#test this function:\n",
    "test_accept_header_formats(\"https://www.folgerdigitaltexts.org/TNK/synopsis/\")"
   ]
  },
  {
   "cell_type": "code",
   "execution_count": 17,
   "id": "cac093aa",
   "metadata": {},
   "outputs": [],
   "source": [
    "def get(url:str, accept:str=\"text/html\") -> bytes:\n",
    "    \"\"\"Send a get request.\n",
    "    \n",
    "    Helper Function to send a GET request to the Folger API.\n",
    "    \n",
    "    Args:\n",
    "        url (str): request url of the endpoint. All params should be included.\n",
    "        accept (str, optional): Content-Type to request in the Accept Header.\n",
    "            Defaults to \"text/html\".\n",
    "    Returns:\n",
    "        bytes: Content of the GET request\n",
    "    \n",
    "    Raises:\n",
    "        ConnectionErr: Endpoint didn't return a 200 status code.\n",
    "        FormatErr: Content-Type is the requested format.\n",
    "    \"\"\"\n",
    "    headers = {\"Accept\" : accept}\n",
    "    r = requests.get(url, headers=headers)\n",
    "    \n",
    "    if r.status_code == 200:\n",
    "        if r.headers[\"Content-Type\"].split(\";\")[0].strip() == accept:\n",
    "            return r.content\n",
    "        else: \n",
    "            raise FormatErr(\"Response Body has a different Mime-Type: \" + r.headers[\"Content-Type\"].split(\";\")[0].strip() + \".\")\n",
    "    else:\n",
    "        raise ConnectionErr(\"Sever returned status code \" + str(r.status_code) + \".\" )\n",
    "    "
   ]
  },
  {
   "cell_type": "code",
   "execution_count": 18,
   "id": "fecf8c28",
   "metadata": {},
   "outputs": [
    {
     "data": {
      "text/plain": [
       "bytes"
      ]
     },
     "execution_count": 18,
     "metadata": {},
     "output_type": "execute_result"
    }
   ],
   "source": [
    "#test \"get\"\n",
    "type(get(\"https://www.folgerdigitaltexts.org/TNK/synopsis/\"))"
   ]
  },
  {
   "cell_type": "markdown",
   "id": "a1539b80",
   "metadata": {},
   "source": [
    "### Functions to query Folger API Endpoints"
   ]
  },
  {
   "cell_type": "markdown",
   "id": "8ddea76d",
   "metadata": {},
   "source": [
    "#### `synopsis`\n",
    "\n",
    "Description: (+ act/scene, optionally) returns a synopsis of the play and its scenes.\n",
    "\n",
    "Examples: \n",
    "\n",
    "* https://www.folgerdigitaltexts.org/TNK/synopsis/\n",
    "* https://www.folgerdigitaltexts.org/TNK/synopsis/5/EPI"
   ]
  },
  {
   "cell_type": "code",
   "execution_count": 19,
   "id": "07cb7de1",
   "metadata": {},
   "outputs": [],
   "source": [
    "#Check for supported mime-types: – uncomment to run, this slows down the notebook when running all cells\n",
    "#test_accept_header_formats(\"https://www.folgerdigitaltexts.org/TNK/synopsis/\")"
   ]
  },
  {
   "cell_type": "markdown",
   "id": "b59271d9",
   "metadata": {},
   "source": [
    "The endpoint `synopsis` returns an HTML page only. We create a function to request the data, but do not parse it. This would be helpful, because then the data would be somewhat machine-readable. This would involve more testing of the actual results because a meaningful parsing of the HTML would be necessary. This is something, that could be implemented in an actual API wrapper.\n",
    "\n",
    "The documentation of the endpoint declare that the parameters to request the synopsis of an act and a scene are optional (cf. the example queries above). Although we could define the function below (`synopsis`; will be kept for reference only), that would take this into account by declaring optional arguments, we can not document this endpoint in the OpenAPI Specification, because path parameters seem to be always required and can not be declared as \"optional\" (see `required: false` in the docstring, which is ignored by `APISpec`). Therefore we have to split the endpoint up into three separate endpoints: `synopsis_of_play`, `synopsis_of_act`, `synopsis_of_scene`.   "
   ]
  },
  {
   "cell_type": "code",
   "execution_count": 20,
   "id": "baf19a7f",
   "metadata": {},
   "outputs": [],
   "source": [
    "# \"synopsis\" as a function\n",
    "#only for reference, as mentioned in the text above, we have to split it up into 3 functions.\n",
    "#@api.route(\"/<path:playcode>/synopsis/<path:act>/<path:scene>\", methods=[\"GET\"])\n",
    "def synopsis(playcode:str=None, act:str=None, scene:str=None) -> bytes:\n",
    "    \"\"\"synopsis\n",
    "    \n",
    "    Returns a synopsis of the play and its scenes.\n",
    "    \n",
    "    Args:\n",
    "        playcode (str): ID of the play.\n",
    "        act (str, optional): ID of the act\n",
    "        scene (str, optional): ID of the scene\n",
    "    \n",
    "    Returns:\n",
    "        bytes: data returned by the endpoint.\n",
    "    \n",
    "    Raises:\n",
    "        BadRequest: mandatory play code was not supplied.\n",
    "    ---\n",
    "    get:\n",
    "        summary: synopsis\n",
    "        description: Returns a synopsis of the play and its scenes.\n",
    "        responses:\n",
    "            200:\n",
    "                description: successful.\n",
    "                content:\n",
    "                    text/html:\n",
    "                        schema:\n",
    "                            type: string\n",
    "        parameters:\n",
    "            -   in: path\n",
    "                name: playcode\n",
    "                description: ID of the play.\n",
    "                schema: play_codes_schema\n",
    "            -   in: path\n",
    "                name: act\n",
    "                description: ID of the act.\n",
    "                schema:\n",
    "                    type: string\n",
    "                required: false\n",
    "            -   in: path\n",
    "                name: scene\n",
    "                description: ID of the scene.\n",
    "                schema:\n",
    "                    type: string\n",
    "                required: false        \n",
    "    \"\"\"\n",
    "    if playcode == None:\n",
    "        raise BadRequest(\"A playcode is mandatory.\")\n",
    "    \n",
    "    #build the request url\n",
    "    if act == None and scene == None:\n",
    "        url = SERVICE_BASE + \"/\" + playcode + \"/synopsis\"\n",
    "    \n",
    "    elif act != None and scene == None:\n",
    "        #can we use only act?\n",
    "        url = SERVICE_BASE + \"/\" + playcode + \"/synopsis/\" + act\n",
    "    elif act != None and scene != None:\n",
    "        # act and scene as in the second example\n",
    "        url = SERVICE_BASE + \"/\" + playcode + \"/synopsis/\" + act + \"/\" + scene \n",
    "    \n",
    "    # call function to send the actual request using the get helper function\n",
    "    data = get(url, accept=\"text/html\")\n",
    "    \n",
    "    return data        "
   ]
  },
  {
   "cell_type": "code",
   "execution_count": 21,
   "id": "8d378f1f",
   "metadata": {},
   "outputs": [
    {
     "data": {
      "text/plain": [
       "8038"
      ]
     },
     "execution_count": 21,
     "metadata": {},
     "output_type": "execute_result"
    }
   ],
   "source": [
    "#test the example: https://www.folgerdigitaltexts.org/TNK/synopsis/\n",
    "playcode=\"TNK\"\n",
    "#instead of displaying the whole data here, we just check for the size\n",
    "len(synopsis(playcode=playcode))"
   ]
  },
  {
   "cell_type": "code",
   "execution_count": 22,
   "id": "6e350180",
   "metadata": {},
   "outputs": [
    {
     "data": {
      "text/plain": [
       "149"
      ]
     },
     "execution_count": 22,
     "metadata": {},
     "output_type": "execute_result"
    }
   ],
   "source": [
    "#test the example: https://www.folgerdigitaltexts.org/TNK/synopsis/5/EPI\n",
    "playcode = \"TNK\"\n",
    "act=\"5\"\n",
    "scene=\"EPI\"\n",
    "len(synopsis(playcode=playcode, act=act, scene=scene))"
   ]
  },
  {
   "cell_type": "code",
   "execution_count": 23,
   "id": "08638847",
   "metadata": {},
   "outputs": [],
   "source": [
    "@api.route(\"/<path:playcode>/synopsis\", methods=[\"GET\"])\n",
    "def synopsis_of_play(playcode:str) -> bytes:\n",
    "    \"\"\"synopsis of play.\n",
    "    \n",
    "    Returns a synopsis of the play and its scenes.\n",
    "    \n",
    "    Args:\n",
    "        playcode (str): ID of the play.\n",
    "    \n",
    "    Returns:\n",
    "        bytes: data returned by the endpoint.\n",
    "    \n",
    "    Raises:\n",
    "        BadRequest: mandatory play code was not supplied.\n",
    "    ---\n",
    "    get:\n",
    "        tags:\n",
    "            - synopsis\n",
    "        summary: synopsis of a play\n",
    "        description: Returns a synopsis of the play and its scenes.\n",
    "        operationId: get_synopsis_of_play\n",
    "        responses:\n",
    "            200:\n",
    "                description: successful. HTML page with the synopsis.\n",
    "                content:\n",
    "                    text/html:\n",
    "                        schema:\n",
    "                            type: string\n",
    "        parameters:\n",
    "            -   in: path\n",
    "                name: playcode\n",
    "                description: ID of the play.\n",
    "                schema: play_codes_schema\n",
    "                required: true\n",
    "    \"\"\"\n",
    "    if playcode == None:\n",
    "        raise BadRequest(\"A playcode is mandatory.\")\n",
    "    \n",
    "    #build the request url\n",
    "    url = SERVICE_BASE + \"/\" + playcode + \"/synopsis\"\n",
    "        \n",
    "    # call function to send the actual request using the get helper function\n",
    "    data = get(url, accept=\"text/html\")\n",
    "    \n",
    "    return data "
   ]
  },
  {
   "cell_type": "code",
   "execution_count": 24,
   "id": "4821a52a",
   "metadata": {},
   "outputs": [],
   "source": [
    "#synopsis of an act\n",
    "@api.route(\"/<path:playcode>/synopsis/<path:act>\", methods=[\"GET\"])\n",
    "def synopsis_of_act(playcode:str, act:str) -> bytes:\n",
    "    \"\"\"synopsis of an act.\n",
    "    \n",
    "    Returns a synopsis of an act and its scenes.\n",
    "    \n",
    "    Args:\n",
    "        playcode (str): ID of the play.\n",
    "        act (str): ID of the act.\n",
    "    \n",
    "    Returns:\n",
    "        bytes: data returned by the endpoint.\n",
    "    \n",
    "    Raises:\n",
    "        MissingPlaycode(\"A playcode must be supplied.\")\n",
    "        MissingAct(\"An act must be supplied.\")\n",
    "    ---\n",
    "    get:\n",
    "        tags:\n",
    "            - synopsis\n",
    "        summary: synopsis of an act\n",
    "        description: Returns a synopsis of an act and its scenes.\n",
    "        operationId: get_synopsis_of_act\n",
    "        responses:\n",
    "            200:\n",
    "                description: successful. HTML page with the synopsis.\n",
    "                content:\n",
    "                    text/html:\n",
    "                        schema:\n",
    "                            type: string\n",
    "        parameters:\n",
    "            -   in: path\n",
    "                name: playcode\n",
    "                description: ID of the play.\n",
    "                schema: play_codes_schema\n",
    "                required: true\n",
    "            -   in: path\n",
    "                name: act\n",
    "                description: ID of the act.\n",
    "                schema:\n",
    "                    type: string\n",
    "                required: true      \n",
    "    \"\"\"\n",
    "    if playcode == None:\n",
    "        raise MissingPlaycode(\"A playcode is mandatory.\")\n",
    "    \n",
    "    if act == None:\n",
    "        raise MissingAct(\"An act is mandatory.\")\n",
    "    \n",
    "    #build the request url\n",
    "    url = SERVICE_BASE + \"/\" + playcode + \"/synopsis/\" + act\n",
    "    \n",
    "    # call function to send the actual request using the get helper function\n",
    "    data = get(url, accept=\"text/html\")\n",
    "    \n",
    "    return data"
   ]
  },
  {
   "cell_type": "code",
   "execution_count": 25,
   "id": "04df2909",
   "metadata": {},
   "outputs": [],
   "source": [
    "#synopsis of a scene\n",
    "@api.route(\"/<path:playcode>/synopsis/<path:act>/<path:scene>\", methods=[\"GET\"])\n",
    "def synopsis_of_scene(playcode:str, act:str, scene:str) -> bytes:\n",
    "    \"\"\"synopsis of a scene.\n",
    "    \n",
    "    Returns a synopsis of a scene.\n",
    "    \n",
    "    Args:\n",
    "        playcode (str): ID of the play.\n",
    "        act (str): ID of the act.\n",
    "        scene (str): ID of the scene.\n",
    "    \n",
    "    Returns:\n",
    "        bytes: data returned by the endpoint.\n",
    "    \n",
    "    Raises:\n",
    "        MissingPlaycode(\"A playcode must be supplied.\")\n",
    "        MissingAct(\"An act must be supplied.\")\n",
    "        MissingScene(\"A scene must be supplied.\")\n",
    "    ---\n",
    "    get:\n",
    "        tags:\n",
    "            - synopsis\n",
    "        summary: synopsis of a scene\n",
    "        description: Returns a synopsis a scene.\n",
    "        operationId: get_synopsis_of_scene\n",
    "        responses:\n",
    "            200:\n",
    "                description: successful. HTML page with the synopsis.\n",
    "                content:\n",
    "                    text/html:\n",
    "                        schema:\n",
    "                            type: string\n",
    "        parameters:\n",
    "            -   in: path\n",
    "                name: playcode\n",
    "                description: ID of the play.\n",
    "                schema: play_codes_schema\n",
    "                required: true\n",
    "            -   in: path\n",
    "                name: act\n",
    "                description: ID of the act.\n",
    "                schema:\n",
    "                    type: string\n",
    "                required: true\n",
    "            -   in: path\n",
    "                name: scene\n",
    "                description: ID of the scene.\n",
    "                schema:\n",
    "                    type: string\n",
    "                required: true\n",
    "    \"\"\"\n",
    "    if playcode == None:\n",
    "        raise MissingPlaycode(\"A playcode is mandatory.\")\n",
    "    \n",
    "    if act == None:\n",
    "        raise MissingAct(\"An act is mandatory.\")\n",
    "        \n",
    "    if scene == None:\n",
    "        raise MissingScene(\"A scene is mandatory.\")\n",
    "    \n",
    "    #build the request url\n",
    "    url = SERVICE_BASE + \"/\" + playcode + \"/synopsis/\" + act + \"/\" + scene \n",
    "    \n",
    "    # call function to send the actual request using the get helper function\n",
    "    data = get(url, accept=\"text/html\")\n",
    "    \n",
    "    return data"
   ]
  },
  {
   "cell_type": "markdown",
   "id": "bf975b7c",
   "metadata": {},
   "source": [
    "##### parsing the response\n",
    "Some notes on how the resonse (a HTML page) could be parsed to get a more processable format:\n",
    "\n",
    "Everything is in `<body>` of the HTML.\n",
    "We have a title\n",
    "\n",
    "```\n",
    "<h2>Synopsis of<i> Two Noble Kinsmen</i>:</h2>\n",
    "```\n",
    "\n",
    "The data is in paragraphs `<p>`:\n",
    "```\n",
    "<p>Arcite prays to Mars for victory; Palamon, to Venus for Emilia’s love. Both prayers are answered. Arcite wins, but dies after a riding accident. Palamon, spared from execution, marries Emilia.</p>\n",
    "```\n",
    "\n",
    "`<hr>` is used as a divider between the synopsis of a play an the acts.\n",
    "\n",
    "Acts and scene numbers would have to be parsed from the plaintext of the synopsis by divider `:`.\n",
    "```\n",
    "<p>Act 1, scene 2: Two noble cousins, Palamon and Arcite, discuss leaving Thebes, where the reign of their despised uncle Creon has corrupted the state. News comes of Theseus’s advance on Thebes and, despite their hatred of Creon, they go to the city’s defense.</p>\n",
    "```\n",
    "\n",
    "There are some special acronymes, e.g. `EPI` for \"Epilogue\":\n",
    "https://www.folgerdigitaltexts.org/TNK/synopsis/5/EPI\n",
    "\n",
    "TODO: A parser could be built for the first synopsis endpoint as an example."
   ]
  },
  {
   "cell_type": "markdown",
   "id": "d14c12b5",
   "metadata": {},
   "source": [
    "#### `tln` \n",
    "\n",
    "Description: (+ Folger through line number): returns the spoken text at that FTLN.\n",
    "\n",
    "Examples:\n",
    "* https://www.folgerdigitaltexts.org/WT/ftln/1201\n",
    "\n",
    "Remarks: it's actually `ftln` in the URL of the endpoint, so maybe this must be changed in the original documentation."
   ]
  },
  {
   "cell_type": "code",
   "execution_count": 26,
   "id": "61db9f34",
   "metadata": {},
   "outputs": [],
   "source": [
    "#test for other response formats – uncomment to run, this slows down the notebook when running all cells\n",
    "#test_accept_header_formats(\"https://www.folgerdigitaltexts.org/WT/ftln/1201\")"
   ]
  },
  {
   "cell_type": "markdown",
   "id": "dce7aec1",
   "metadata": {},
   "source": [
    "Only `text/html` is available as a response format, but the HTML is structured (relevant for parsing the response):\n",
    "\n",
    "```\n",
    "<body>Winter’s Tale\n",
    "<br>FTLN: 1201<br>Line: 3.1.27\n",
    "<br> Speech: <a href=\"http://www.folgerdigitaltexts.org/WT/segment/sp-1196\">sp-1196</a>\n",
    "<br>\n",
    " Speaker: #Dion_WT\n",
    " <br>Type: short\n",
    " <br>Text:  \n",
    " <a href=\"http://www.folgerdigitaltexts.org/WT/word/w0175960\" title=\"w0175960\">And</a>\n",
    " <a href=\"http://www.folgerdigitaltexts.org/WT/word/c0175970\" title=\"c0175970\"> </a>\n",
    " <a href=\"http://www.folgerdigitaltexts.org/WT/word/w0175980\" title=\"w0175980\">gracious</a>\n",
    " <a href=\"http://www.folgerdigitaltexts.org/WT/word/c0175990\" title=\"c0175990\"> </a>\n",
    " <a href=\"http://www.folgerdigitaltexts.org/WT/word/w0176000\" title=\"w0176000\">be</a>\n",
    " <a href=\"http://www.folgerdigitaltexts.org/WT/word/c0176010\" title=\"c0176010\"> </a>\n",
    " <a href=\"http://www.folgerdigitaltexts.org/WT/word/w0176020\" title=\"w0176020\">the</a>\n",
    " <a href=\"http://www.folgerdigitaltexts.org/WT/word/c0176030\" title=\"c0176030\"> </a>\n",
    " <a href=\"http://www.folgerdigitaltexts.org/WT/word/w0176040\" title=\"w0176040\">issue</a>\n",
    " <a href=\"http://www.folgerdigitaltexts.org/WT/word/p0176050\" title=\"p0176050\">.</a>\n",
    " </body>\n",
    "```\n",
    "\n",
    "It references the `segment` and the `word` endpoints. That's interesting, because I assumed, that the endpoints were monolithic and separate. There might actually be a way to get the missing values of the parameters (see comment \"some general remarks on the documentation/api\" above)."
   ]
  },
  {
   "cell_type": "code",
   "execution_count": 27,
   "id": "daa4517d",
   "metadata": {},
   "outputs": [],
   "source": [
    "@api.route(\"/<path:playcode>/ftln/<path:ftln>\", methods=[\"GET\"])\n",
    "def ftln(playcode:str, ftln:str) -> bytes:\n",
    "    \"\"\"Text at FTLN (Folger through line number)\n",
    "    \n",
    "    returns the spoken text at that FTLN (Folger through line number)\n",
    "    \n",
    "    Args:\n",
    "        playcode (str): ID of the play.\n",
    "        ftln (str): Folger through line number.\n",
    "    \n",
    "    Returns:\n",
    "        bytes: data returned by the endpoint.\n",
    "    ---\n",
    "    get:\n",
    "        tags:\n",
    "            - ftln\n",
    "        summary: spoken text at that FTLN\n",
    "        description: Returns the spoken text at that FTLN (Folger through line number).\n",
    "        operationId: get_ftln\n",
    "        responses:\n",
    "            200:\n",
    "                description: successful. HTML page with the text spoken at the ftln.\n",
    "                content:\n",
    "                    text/html:\n",
    "                        schema:\n",
    "                            type: string\n",
    "        parameters:\n",
    "            -   in: path\n",
    "                name: playcode\n",
    "                description: ID of the play.\n",
    "                schema: play_codes_schema\n",
    "                required: true\n",
    "            -   in: path\n",
    "                name: ftln\n",
    "                description: Folger through line number.\n",
    "                schema:\n",
    "                    type: string\n",
    "                required: true\n",
    "    \"\"\"\n",
    "    \n",
    "    if playcode == None:\n",
    "        raise MissingPlaycode(\"A playcode is mandatory.\")\n",
    "    \n",
    "    if ftln == None:\n",
    "        raise MissingFtln(\"Folger through line number (ftln) is mandatory.\")\n",
    "        \n",
    "    #build the request url\n",
    "    url = SERVICE_BASE + \"/\" + playcode + \"/ftln/\" + ftln\n",
    "    \n",
    "    # call function to send the actual request using the get helper function\n",
    "    data = get(url, accept=\"text/html\")\n",
    "    \n",
    "    return data\n",
    "    "
   ]
  },
  {
   "cell_type": "code",
   "execution_count": 28,
   "id": "1ae2c916",
   "metadata": {},
   "outputs": [
    {
     "data": {
      "text/plain": [
       "b'Winter\\xe2\\x80\\x99s Tale<br/>FTLN: 1201<br/>Line: 3.1.27<br/> Speech: <a href=\"http://www.folgerdigitaltexts.org/WT/segment/sp-1196\">sp-1196</a><br/>\\n Speaker: #Dion_WT<br/>\\n Type: short<br/>Text:  <a href=\"http://www.folgerdigitaltexts.org/WT/word/w0175960\" title=\"w0175960\">And</a><a href=\"http://www.folgerdigitaltexts.org/WT/word/c0175970\" title=\"c0175970\"> </a><a href=\"http://www.folgerdigitaltexts.org/WT/word/w0175980\" title=\"w0175980\">gracious</a><a href=\"http://www.folgerdigitaltexts.org/WT/word/c0175990\" title=\"c0175990\"> </a><a href=\"http://www.folgerdigitaltexts.org/WT/word/w0176000\" title=\"w0176000\">be</a><a href=\"http://www.folgerdigitaltexts.org/WT/word/c0176010\" title=\"c0176010\"> </a><a href=\"http://www.folgerdigitaltexts.org/WT/word/w0176020\" title=\"w0176020\">the</a><a href=\"http://www.folgerdigitaltexts.org/WT/word/c0176030\" title=\"c0176030\"> </a><a href=\"http://www.folgerdigitaltexts.org/WT/word/w0176040\" title=\"w0176040\">issue</a><a href=\"http://www.folgerdigitaltexts.org/WT/word/p0176050\" title=\"p0176050\">.</a>'"
      ]
     },
     "execution_count": 28,
     "metadata": {},
     "output_type": "execute_result"
    }
   ],
   "source": [
    "#test the example https://www.folgerdigitaltexts.org/WT/ftln/1201\n",
    "ftln(\"WT\",\"1201\")"
   ]
  },
  {
   "cell_type": "markdown",
   "id": "b527f9ac",
   "metadata": {},
   "source": [
    "##### Parsing of `ftln` response\n",
    "TODO: see response; could be parsed into an object maybe, but define a marshmallow schema first!"
   ]
  },
  {
   "cell_type": "markdown",
   "id": "7e696b81",
   "metadata": {},
   "source": [
    "#### `word`\n",
    "\n",
    "Description: (+ word id) : returns information about that word.\n",
    "\n",
    "Examples:\n",
    "* https://www.folgerdigitaltexts.org/WT/word/w0176040\n",
    "* https://www.folgerdigitaltexts.org/Ham/word/w0259380"
   ]
  },
  {
   "cell_type": "code",
   "execution_count": 29,
   "id": "02f4addf",
   "metadata": {},
   "outputs": [],
   "source": [
    "#Check for supported mime-types: – uncomment to run, this slows down the notebook when running all cells\n",
    "#test_accept_header_formats(\"https://www.folgerdigitaltexts.org/Ham/word/w0259380\")"
   ]
  },
  {
   "cell_type": "markdown",
   "id": "8c981618",
   "metadata": {},
   "source": [
    "Only `text/html` is returned.\n",
    "\n",
    "```\n",
    "<body>\n",
    "Hamlet\n",
    "<br>Word (w0259380): stallion\n",
    "<br>Speech (#Hamlet_Ham): <a href=\"http://www.folgerdigitaltexts.org/Ham/segment/sp-1639\">sp-1639</a>\n",
    "<br>FTLN: <a href=\"http://www.folgerdigitaltexts.org/Ham/ftln/1680\">ftln-1680</a>\n",
    "<br>Line: 2.2.616\n",
    "<br>Emendation: text from the Folio not found in the Second Quarto\n",
    "<br>Alternate reading: scullion (#print #adobe)\n",
    "<br>\n",
    "\n",
    "<br>View in <a href=\"http://earlyprint.wustl.edu/tooleebospellingbrowserv2.html?requestFromClient={%221%22:{%22spe%22:%22%22,%22reg%22:%22stallion%22,%22lem%22:%22%22,%22pos%22:%22%22,%22originalPos%22:%22%22},%222%22:{%22spe%22:%22%22,%22reg%22:%22%22,%22lem%22:%22%22,%22pos%22:%22%22,%22originalPos%22:%22%22},%223%22:{%22spe%22:%22%22,%22reg%22:%22%22,%22lem%22:%22%22,%22pos%22:%22%22,%22originalPos%22:%22%22},%22instructionToggle%22:%22hide%22,%22databaseType%22:%22unigrams%22,%22smoothing%22:%22True%22,%22rollingAverage%22:%2220_year%22}\" target=\"_blank\">EEBO-TCP N-Gram Browser</a> (Humanities Digital Workshop at Washington University in St. Louis)<br>\n",
    "\n",
    "</body>\n",
    "```"
   ]
  },
  {
   "cell_type": "code",
   "execution_count": 30,
   "id": "cd719d20",
   "metadata": {},
   "outputs": [],
   "source": [
    "@api.route(\"/<path:playcode>/word/<path:word_id>\", methods=[\"GET\"])\n",
    "def word(playcode:str, word_id:str) -> bytes:\n",
    "    \"\"\"Information about a word\n",
    "    \n",
    "    returns information about a word.\n",
    "    \n",
    "    Args:\n",
    "        playcode (str): ID of the play.\n",
    "        word_id (str): ID of the word.\n",
    "    \n",
    "    Returns:\n",
    "        bytes: data returned by the endpoint.\n",
    "    \n",
    "    Raises:\n",
    "        MissingPlaycode: ID of the play must be supplied.\n",
    "        MissingWord: ID of the word must be supplied.\n",
    "    ---\n",
    "    get:\n",
    "        tags:\n",
    "            - word\n",
    "        summary: information about a word\n",
    "        description: Returns information about a word.\n",
    "        operationId: get_word\n",
    "        responses:\n",
    "            200:\n",
    "                description: successful. HTML page with the text spoken at the ftln.\n",
    "                content:\n",
    "                    text/html:\n",
    "                        schema:\n",
    "                            type: string\n",
    "        parameters:\n",
    "            -   in: path\n",
    "                name: playcode\n",
    "                description: ID of the play.\n",
    "                schema: play_codes_schema\n",
    "                required: true\n",
    "            -   in: path\n",
    "                name: word_id\n",
    "                description: ID of the word.\n",
    "                schema:\n",
    "                    type: string\n",
    "                required: true\n",
    "    \"\"\"\n",
    "    \n",
    "    if playcode == None:\n",
    "        raise MissingPlaycode(\"A playcode is mandatory.\")\n",
    "    \n",
    "    if ftln == None:\n",
    "        raise MissingWord(\"An ID of a word is mandatory.\")\n",
    "        \n",
    "    #build the request url\n",
    "    url = SERVICE_BASE + \"/\" + playcode + \"/word/\" + word_id\n",
    "    \n",
    "    # call function to send the actual request using the get helper function\n",
    "    data = get(url, accept=\"text/html\")\n",
    "    \n",
    "    return data"
   ]
  },
  {
   "cell_type": "code",
   "execution_count": 31,
   "id": "40842862",
   "metadata": {},
   "outputs": [
    {
     "data": {
      "text/plain": [
       "b'Hamlet<br/>Word (w0259380): stallion<br/>Speech (#Hamlet_Ham): <a href=\"http://www.folgerdigitaltexts.org/Ham/segment/sp-1639\">sp-1639</a>\\n<br/>FTLN: <a href=\"http://www.folgerdigitaltexts.org/Ham/ftln/1680\">ftln-1680</a><br/>\\nLine: 2.2.616<br/>\\nEmendation: text from the Folio not found in the Second Quarto<br/>\\nAlternate reading: scullion (#print #adobe)<br/>\\n<br/>View in <a href=\"http://earlyprint.wustl.edu/tooleebospellingbrowserv2.html?requestFromClient={%221%22:{%22spe%22:%22%22,%22reg%22:%22stallion%22,%22lem%22:%22%22,%22pos%22:%22%22,%22originalPos%22:%22%22},%222%22:{%22spe%22:%22%22,%22reg%22:%22%22,%22lem%22:%22%22,%22pos%22:%22%22,%22originalPos%22:%22%22},%223%22:{%22spe%22:%22%22,%22reg%22:%22%22,%22lem%22:%22%22,%22pos%22:%22%22,%22originalPos%22:%22%22},%22instructionToggle%22:%22hide%22,%22databaseType%22:%22unigrams%22,%22smoothing%22:%22True%22,%22rollingAverage%22:%2220_year%22}\" target=\"_blank\">EEBO-TCP N-Gram Browser</a> (Humanities Digital Workshop at Washington University in St. Louis)<br/>'"
      ]
     },
     "execution_count": 31,
     "metadata": {},
     "output_type": "execute_result"
    }
   ],
   "source": [
    "#test the hamlet example:\n",
    "#https://www.folgerdigitaltexts.org/Ham/word/w0259380\n",
    "word(\"Ham\", \"w0259380\")"
   ]
  },
  {
   "cell_type": "markdown",
   "id": "d63751ce",
   "metadata": {},
   "source": [
    "##### Parsing `word` response\n",
    "TODO: marshmallow schema of the object, + parser"
   ]
  },
  {
   "cell_type": "markdown",
   "id": "303df872",
   "metadata": {},
   "source": [
    "#### `segment`\n",
    "\n",
    "Description: (+ object id) : returns the text of that xml:id.\n",
    "\n",
    "Examples: None."
   ]
  },
  {
   "cell_type": "markdown",
   "id": "b78b50e7",
   "metadata": {},
   "source": [
    "An example can be found in the response of the `ftln` example: http://www.folgerdigitaltexts.org/Ham/segment/sp-1639"
   ]
  },
  {
   "cell_type": "code",
   "execution_count": 32,
   "id": "785ee346",
   "metadata": {},
   "outputs": [],
   "source": [
    "#Check for supported mime-types: – uncomment to run, this slows down the notebook when running all cells\n",
    "#test_accept_header_formats(\"http://www.folgerdigitaltexts.org/Ham/segment/sp-1639\")"
   ]
  },
  {
   "cell_type": "markdown",
   "id": "2dcae5d8",
   "metadata": {},
   "source": [
    "As we expected, only HTML will be returned. The response looks like this:\n",
    "\n",
    "```\n",
    "<body><span style=\"font-weight:bold\">HAMLET</span> <br>\n",
    "Ay, so, good-bye to you.<br>\n",
    " <span style=\"font-style:italic\">Rosencrantz and Guildenstern exit.</span><br>\n",
    "Now I am alone.<br>\n",
    "O, what a rogue and peasant slave am I!<br>\n",
    "Is it not monstrous that this player here,<br>\n",
    "But in a fiction, in a dream of passion,<br>\n",
    "Could force his soul so to his own conceit<br>\n",
    "That from her working all his visage wanned,<br>\n",
    "Tears in his eyes, distraction in his aspect,<br>\n",
    "A broken voice, and his whole function suiting<br>\n",
    "With forms to his conceit—and all for nothing!<br>\n",
    "For Hecuba!<br>\n",
    "<!-- ... -->\n",
    "</body>\n",
    "```\n",
    "\n",
    "Suppose, this is an HTML rendering of the `<tei:sp>`. It doesn't really make sense to parse this out, because a meaningful representation would be the actual TEI and such an upconvert is not necessary or do-able. We could think of getting this as plaintext by stripping the HTML. Maybe this would be a useful format."
   ]
  },
  {
   "cell_type": "code",
   "execution_count": 33,
   "id": "0f166aeb",
   "metadata": {},
   "outputs": [],
   "source": [
    "@api.route(\"/<path:playcode>/segment/<path:object_id>\", methods=[\"GET\"])\n",
    "def segment(playcode:str, object_id:str) -> bytes:\n",
    "    \"\"\"Text of a segment\n",
    "    \n",
    "    returns the text of that xml:id.\n",
    "    \n",
    "    Args:\n",
    "        playcode (str): ID of the play.\n",
    "        object_id (str): ID of the segment.\n",
    "    \n",
    "    Returns:\n",
    "        bytes: data returned by the endpoint.\n",
    "    \n",
    "    Raises:\n",
    "        MissingPlaycode: ID of the play must be supplied.\n",
    "        MissingSegID: ID of the word must be supplied.\n",
    "    ---\n",
    "    get:\n",
    "        tags:\n",
    "            - segment\n",
    "        summary: text of a segment\n",
    "        description: Returns the text of that xml:id.\n",
    "        operationId: get_segment\n",
    "        responses:\n",
    "            200:\n",
    "                description: successful. HTML page with the text spoken at the ftln.\n",
    "                content:\n",
    "                    text/html:\n",
    "                        schema:\n",
    "                            type: string\n",
    "        parameters:\n",
    "            -   in: path\n",
    "                name: playcode\n",
    "                description: ID of the play.\n",
    "                schema: play_codes_schema\n",
    "                required: true\n",
    "            -   in: path\n",
    "                name: object_id\n",
    "                description: ID of the segment.\n",
    "                schema:\n",
    "                    type: string\n",
    "                required: true\n",
    "    \"\"\"\n",
    "    \n",
    "    if playcode == None:\n",
    "        raise MissingPlaycode(\"A playcode is mandatory.\")\n",
    "    \n",
    "    if ftln == None:\n",
    "        raise MissingSegID(\"An ID of a segment is mandatory.\")\n",
    "        \n",
    "    #build the request url\n",
    "    url = SERVICE_BASE + \"/\" + playcode + \"/segment/\" + object_id\n",
    "    \n",
    "    # call function to send the actual request using the get helper function\n",
    "    data = get(url, accept=\"text/html\")\n",
    "    \n",
    "    return data"
   ]
  },
  {
   "cell_type": "code",
   "execution_count": 34,
   "id": "4ce34280",
   "metadata": {},
   "outputs": [
    {
     "data": {
      "text/plain": [
       "2900"
      ]
     },
     "execution_count": 34,
     "metadata": {},
     "output_type": "execute_result"
    }
   ],
   "source": [
    "# testing example: \"http://www.folgerdigitaltexts.org/Ham/segment/sp-1639\"\n",
    "len(segment(\"Ham\",\"sp-1639\"))"
   ]
  },
  {
   "cell_type": "markdown",
   "id": "85adf75e",
   "metadata": {},
   "source": [
    "#### `text`\n",
    "\n",
    "Description: returns only the spoken text in that play.\n",
    "\n",
    "Examples:\n",
    "* https://www.folgerdigitaltexts.org/WT/text/"
   ]
  },
  {
   "cell_type": "code",
   "execution_count": 35,
   "id": "b1ce1f82",
   "metadata": {},
   "outputs": [],
   "source": [
    "#Check for supported mime-types: – uncomment to run, this slows down the notebook when running all cells\n",
    "#test_accept_header_formats(\"https://www.folgerdigitaltexts.org/WT/text/\")"
   ]
  },
  {
   "cell_type": "markdown",
   "id": "89db7358",
   "metadata": {},
   "source": [
    "Returns only `text/html`. Result is a HTML page with the text in `<body>` and line-break elements `<br>`. Useful format would be plaintext, but maybe there are some additional tags (italics?), that if expected more closely."
   ]
  },
  {
   "cell_type": "code",
   "execution_count": 36,
   "id": "377d4746",
   "metadata": {},
   "outputs": [],
   "source": [
    "@api.route(\"/<path:playcode>/text>\", methods=[\"GET\"])\n",
    "def text(playcode:str) -> bytes:\n",
    "    \"\"\"Spoken text in a play\n",
    "    \n",
    "    returns only the spoken text in that play.\n",
    "    \n",
    "    Args:\n",
    "        playcode (str): ID of the play.\n",
    "    \n",
    "    Returns:\n",
    "        bytes: data returned by the endpoint.\n",
    "    \n",
    "    Raises:\n",
    "        MissingPlaycode: ID of the play must be supplied.\n",
    "    ---\n",
    "    get:\n",
    "        tags:\n",
    "            - text\n",
    "        summary: Spoken text in a play\n",
    "        description: Returns only the spoken text in that play.\n",
    "        operationId: get_text\n",
    "        responses:\n",
    "            200:\n",
    "                description: successful. HTML page with the text.\n",
    "                content:\n",
    "                    text/html:\n",
    "                        schema:\n",
    "                            type: string\n",
    "        parameters:\n",
    "            -   in: path\n",
    "                name: playcode\n",
    "                description: ID of the play.\n",
    "                schema: play_codes_schema\n",
    "                required: true\n",
    "    \"\"\"\n",
    "    \n",
    "    if playcode == None:\n",
    "        raise MissingPlaycode(\"A playcode is mandatory.\")\n",
    "    \n",
    "    #build the request url\n",
    "    url = SERVICE_BASE + \"/\" + playcode + \"/text\"\n",
    "    \n",
    "    # call function to send the actual request using the get helper function\n",
    "    data = get(url, accept=\"text/html\")\n",
    "    \n",
    "    return data"
   ]
  },
  {
   "cell_type": "code",
   "execution_count": 37,
   "id": "b894c27e",
   "metadata": {},
   "outputs": [
    {
     "data": {
      "text/plain": [
       "149008"
      ]
     },
     "execution_count": 37,
     "metadata": {},
     "output_type": "execute_result"
    }
   ],
   "source": [
    "#test the example: https://www.folgerdigitaltexts.org/WT/text/\n",
    "len(text(\"WT\"))"
   ]
  },
  {
   "cell_type": "markdown",
   "id": "1f998403",
   "metadata": {},
   "source": [
    "#### `charText`\n",
    "\n",
    "Description: returns a list of characters arranged according to amount of lines spoken, with a link to each character's entire spoken text.\n",
    "\n",
    "Examples: None."
   ]
  },
  {
   "cell_type": "code",
   "execution_count": 38,
   "id": "47050dea",
   "metadata": {},
   "outputs": [],
   "source": [
    "#Check for supported mime-types: – uncomment to run, this slows down the notebook when running all cells\n",
    "#test_accept_header_formats(\"https://www.folgerdigitaltexts.org/WT/charText\")"
   ]
  },
  {
   "cell_type": "markdown",
   "id": "17814603",
   "metadata": {},
   "source": [
    "An example, that would work: https://www.folgerdigitaltexts.org/WT/charText. I looked into the response; the links point to an endpoint, that returns the text of a character, e.g. \n",
    "https://folgerdigitaltexts.org/WT/charText/WT_Mopsa.html. The `.html` is important, otherwhise it doesn't work. It only returns HTML, I guess. \n",
    "The OpenAPI Documentation will have two endpoints. The first one is more of a discovery endpoint. This should be parsed to extract the speaking characters, which might be needed as  parameter-values for some other endpoints."
   ]
  },
  {
   "cell_type": "code",
   "execution_count": 39,
   "id": "18fa105b",
   "metadata": {},
   "outputs": [],
   "source": [
    "@api.route(\"/<path:playcode>/charText\", methods=[\"GET\"])\n",
    "def char_text(playcode:str) -> bytes:\n",
    "    \"\"\"Character's Text\n",
    "    \n",
    "    returns a list of characters arranged according to amount of lines spoken, with a link to each character's entire spoken text.\n",
    "    \n",
    "    Args:\n",
    "        playcode (str): ID of the play.\n",
    "    \n",
    "    Returns:\n",
    "        bytes: data returned by the endpoint.\n",
    "    \n",
    "    Raises:\n",
    "        MissingPlaycode: ID of the play must be supplied.\n",
    "    ---\n",
    "    get:\n",
    "        tags:\n",
    "            - charText\n",
    "        summary: Character's Text\n",
    "        description: Returns a list of characters arranged according to amount of lines spoken, with a link to each character's entire spoken text.\n",
    "        operationId: get_character_texts\n",
    "        responses:\n",
    "            200:\n",
    "                description: successful. HTML page with list of characters arranged according to amount of lines spoken, with a link to each character's entire spoken text.\n",
    "                content:\n",
    "                    text/html:\n",
    "                        schema:\n",
    "                            type: string\n",
    "        parameters:\n",
    "            -   in: path\n",
    "                name: playcode\n",
    "                description: ID of the play.\n",
    "                schema: play_codes_schema\n",
    "                required: true\n",
    "    \"\"\"\n",
    "    \n",
    "    if playcode == None:\n",
    "        raise MissingPlaycode(\"A playcode is mandatory.\")\n",
    "    \n",
    "    #build the request url\n",
    "    url = SERVICE_BASE + \"/\" + playcode + \"/charText\"\n",
    "    \n",
    "    # call function to send the actual request using the get helper function\n",
    "    data = get(url, accept=\"text/html\")\n",
    "    \n",
    "    return data"
   ]
  },
  {
   "cell_type": "code",
   "execution_count": 40,
   "id": "8701fbd9",
   "metadata": {},
   "outputs": [
    {
     "data": {
      "text/plain": [
       "b'<html>\\r\\n<head>\\r\\n<meta charset=\\'utf-8\\'>\\r\\n</head>\\r\\n<body>\\r\\n<div style=\"float:left; width: 60px;\"><b>Words</b></div><div style=\"float:left;\"><b>Character</b></div><br/>\\r\\n<div style=\"float:left; width: 60px;\">4903</div><div style=\"float:left;\"><a href=\"WT_Leontes.html\">Leontes</a></div><br/>\\r\\n<div style=\"float:left; width: 60px;\">2395</div><div style=\"float:left;\"><a href=\"WT_Autolycus.html\">Autolycus</a></div><br/>\\r\\n<div style=\"float:left; width: 60px;\">2390</div><div style=\"float:left;\"><a href=\"WT_Paulina.html\">Paulina</a></div><br/>\\r\\n<div style=\"float:left; width: 60px;\">2094</div><div style=\"float:left;\"><a href=\"WT_Camillo.html\">Camillo</a></div><br/>\\r\\n<div style=\"float:left; width: 60px;\">1960</div><div style=\"float:left;\"><a href=\"WT_Polixenes.html\">Polixenes</a></div><br/>\\r\\n<div style=\"float:left; width: 60px;\">1597</div><div style=\"float:left;\"><a href=\"WT_ShepherdsSon.html\">ShepherdsSon</a></div><br/>\\r\\n<div style=\"float:left; width: 60px;\">1584</div><div style=\"float:left;\"><a href=\"WT_Hermione.html\">Hermione</a></div><br/>\\r\\n<div style=\"float:left; width: 60px;\">1391</div><div style=\"float:left;\"><a href=\"WT_Florizell.html\">Florizell</a></div><br/>\\r\\n<div style=\"float:left; width: 60px;\">1072</div><div style=\"float:left;\"><a href=\"WT_Shepherd.html\">Shepherd</a></div><br/>\\r\\n<div style=\"float:left; width: 60px;\">898</div><div style=\"float:left;\"><a href=\"WT_Perdita.html\">Perdita</a></div><br/>\\r\\n<div style=\"float:left; width: 60px;\">785</div><div style=\"float:left;\"><a href=\"WT_Antigonus.html\">Antigonus</a></div><br/>\\r\\n<div style=\"float:left; width: 60px;\">594</div><div style=\"float:left;\"><a href=\"WT_ATTENDANTS.3.html\">ATTENDANTS.3</a></div><br/>\\r\\n<div style=\"float:left; width: 60px;\">315</div><div style=\"float:left;\"><a href=\"WT_SERVANTS.SHEPHERD.1.html\">SERVANTS.SHEPHERD.1</a></div><br/>\\r\\n<div style=\"float:left; width: 60px;\">266</div><div style=\"float:left;\"><a href=\"WT_Chorus.html\">Chorus</a></div><br/>\\r\\n<div style=\"float:left; width: 60px;\">261</div><div style=\"float:left;\"><a href=\"WT_ATTENDANTS.0.1.html\">ATTENDANTS.0.1</a></div><br/>\\r\\n<div style=\"float:left; width: 60px;\">221</div><div style=\"float:left;\"><a href=\"WT_ATTENDANTS.1.html\">ATTENDANTS.1</a></div><br/>\\r\\n<div style=\"float:left; width: 60px;\">193</div><div style=\"float:left;\"><a href=\"WT_OFFICERS.0.1.html\">OFFICERS.0.1</a></div><br/>\\r\\n<div style=\"float:left; width: 60px;\">190</div><div style=\"float:left;\"><a href=\"WT_Dion.html\">Dion</a></div><br/>\\r\\n<div style=\"float:left; width: 60px;\">176</div><div style=\"float:left;\"><a href=\"WT_Archidamus.html\">Archidamus</a></div><br/>\\r\\n<div style=\"float:left; width: 60px;\">172</div><div style=\"float:left;\"><a href=\"WT_ATTENDANTS.X.html\">ATTENDANTS.X</a></div><br/>\\r\\n<div style=\"float:left; width: 60px;\">151</div><div style=\"float:left;\"><a href=\"WT_Mamillius.html\">Mamillius</a></div><br/>\\r\\n<div style=\"float:left; width: 60px;\">142</div><div style=\"float:left;\"><a href=\"WT_LADIES.Emilia.html\">LADIES.Emilia</a></div><br/>\\r\\n<div style=\"float:left; width: 60px;\">142</div><div style=\"float:left;\"><a href=\"WT_Mopsa.html\">Mopsa</a></div><br/>\\r\\n<div style=\"float:left; width: 60px;\">140</div><div style=\"float:left;\"><a href=\"WT_Cleomenes.html\">Cleomenes</a></div><br/>\\r\\n<div style=\"float:left; width: 60px;\">126</div><div style=\"float:left;\"><a href=\"WT_ATTENDANTS.2.html\">ATTENDANTS.2</a></div><br/>\\r\\n<div style=\"float:left; width: 60px;\">119</div><div style=\"float:left;\"><a href=\"WT_SERVANTS.X.3.html\">SERVANTS.X.3</a></div><br/>\\r\\n<div style=\"float:left; width: 60px;\">80</div><div style=\"float:left;\"><a href=\"WT_Sailor.html\">Sailor</a></div><br/>\\r\\n<div style=\"float:left; width: 60px;\">72</div><div style=\"float:left;\"><a href=\"WT_Jailer.html\">Jailer</a></div><br/>\\r\\n<div style=\"float:left; width: 60px;\">67</div><div style=\"float:left;\"><a href=\"WT_Dorcas.html\">Dorcas</a></div><br/>\\r\\n<div style=\"float:left; width: 60px;\">49</div><div style=\"float:left;\"><a href=\"WT_LADIES.0.1.html\">LADIES.0.1</a></div><br/>\\r\\n<div style=\"float:left; width: 60px;\">45</div><div style=\"float:left;\"><a href=\"WT_SERVANTS.X.1.html\">SERVANTS.X.1</a></div><br/>\\r\\n<div style=\"float:left; width: 60px;\">31</div><div style=\"float:left;\"><a href=\"WT_SERVANTS.X.2.html\">SERVANTS.X.2</a></div><br/>\\r\\n<div style=\"float:left; width: 60px;\">21</div><div style=\"float:left;\"><a href=\"WT_LADIES.0.2.html\">LADIES.0.2</a></div><br/>\\r\\n<div style=\"float:left; width: 60px;\">19</div><div style=\"float:left;\"><a href=\"WT_ATTENDANTS.html\">ATTENDANTS</a></div><br/>\\r\\n<div style=\"float:left; width: 60px;\">12</div><div style=\"float:left;\"><a href=\"WT_SERVANTS.0.html\">SERVANTS.0</a></div><br/>\\r\\n\\r\\n</body>\\r\\n<html>\\r\\n\\r\\r\\n'"
      ]
     },
     "execution_count": 40,
     "metadata": {},
     "output_type": "execute_result"
    }
   ],
   "source": [
    "#test the example: https://www.folgerdigitaltexts.org/WT/charText\n",
    "char_text(\"WT\")"
   ]
  },
  {
   "cell_type": "code",
   "execution_count": 41,
   "id": "64d35015",
   "metadata": {},
   "outputs": [],
   "source": [
    "@api.route(\"/<path:playcode>/charText/<path:character_id>.html\", methods=[\"GET\"])\n",
    "def char_text_by_character_id(playcode:str, character_id:str) -> bytes:\n",
    "    \"\"\"A single character's text\n",
    "    \n",
    "    returns the character's entire spoken text.\n",
    "    \n",
    "    Args:\n",
    "        playcode (str): ID of the play.\n",
    "        character_id (str): ID of the character.\n",
    "    \n",
    "    Returns:\n",
    "        bytes: data returned by the endpoint.\n",
    "    \n",
    "    Raises:\n",
    "        MissingPlaycode: ID of the play must be supplied.\n",
    "        MissingCharID: ID of the character must be supplied.\n",
    "    ---\n",
    "    get:\n",
    "        tags:\n",
    "            - charText\n",
    "        summary: Single character's text\n",
    "        description: Returns the character's entire spoken text.\n",
    "        operationId: get_character_text_by_id\n",
    "        responses:\n",
    "            200:\n",
    "                description: successful. HTML page with spoken text of a character.\n",
    "                content:\n",
    "                    text/html:\n",
    "                        schema:\n",
    "                            type: string\n",
    "        parameters:\n",
    "            -   in: path\n",
    "                name: playcode\n",
    "                description: ID of the play.\n",
    "                schema: play_codes_schema\n",
    "                required: true\n",
    "            -   in: path\n",
    "                name: character_id\n",
    "                description: ID of the character.\n",
    "                schema:\n",
    "                    type: string\n",
    "                required: true\n",
    "    \"\"\"\n",
    "    \n",
    "    if playcode == None:\n",
    "        raise MissingPlaycode(\"A playcode is mandatory.\")\n",
    "        \n",
    "    if character_id == None:\n",
    "        raise MissingCharID(\"An ID of a character is mandatory.\")\n",
    "    \n",
    "    #build the request url\n",
    "    url = SERVICE_BASE + \"/\" + playcode + \"/charText/\" + character_id + \".html\"\n",
    "    \n",
    "    # call function to send the actual request using the get helper function\n",
    "    data = get(url, accept=\"text/html\")\n",
    "    \n",
    "    return data"
   ]
  },
  {
   "cell_type": "code",
   "execution_count": 42,
   "id": "8606928c",
   "metadata": {},
   "outputs": [
    {
     "data": {
      "text/plain": [
       "901"
      ]
     },
     "execution_count": 42,
     "metadata": {},
     "output_type": "execute_result"
    }
   ],
   "source": [
    "#test the example https://folgerdigitaltexts.org/WT/charText/WT_Mopsa.html\n",
    "#the amount is not correct when simply counting! but it still works\n",
    "len(char_text_by_character_id(\"WT\", \"WT_Mopsa\"))"
   ]
  },
  {
   "cell_type": "markdown",
   "id": "39c9716e",
   "metadata": {},
   "source": [
    "TODO: The functions work here in the notebook but not in the Swagger Interface. This might be due to a redirect or something. Have to check in Postman."
   ]
  },
  {
   "cell_type": "markdown",
   "id": "a2ba3562",
   "metadata": {},
   "source": [
    "##### Parsing `charText`"
   ]
  },
  {
   "cell_type": "markdown",
   "id": "8e808016",
   "metadata": {},
   "source": [
    "#### `charTextMinus`\n",
    "\n",
    "Description: returns a list of characters arranged according to amount of lines spoken, with a link to the play's spoken text, minus this character.\n",
    "\n",
    "Examples: None."
   ]
  },
  {
   "cell_type": "markdown",
   "id": "5df4f99d",
   "metadata": {},
   "source": [
    "I don't really get this function. Not very well documented. Skip for now. Maybe also add to the \"charText\" Tag. \n",
    "\n",
    "It seems to return the same list of characters as its sister function `charText` but the links point to a different endpoint, e.g. https://folgerdigitaltexts.org/WT/charTextMinus/WT_Mopsa.html The text returned by the `charTextMinus` is way longer than the text return by the `charText`; so I suppose, it's the whole spoken text of the play except the text spoken by the mopsa character. This is also what the original documentation indicates.\n",
    "I think, this is a very specific function, what would be the idea behind that? Easily compare the characters text to all other text?\n",
    "Anyways, we implement the same endpoints as above, just replacing the function part in the URL. Probably, the same parsing could be used."
   ]
  },
  {
   "cell_type": "code",
   "execution_count": 43,
   "id": "0a5963f7",
   "metadata": {},
   "outputs": [],
   "source": [
    "@api.route(\"/<path:playcode>/charTextMinus\", methods=[\"GET\"])\n",
    "def char_text_minus(playcode:str) -> bytes:\n",
    "    \"\"\"charTextMinus\n",
    "    \n",
    "    returns a list of characters arranged according to amount of lines spoken, with a link to the play's spoken text, minus this character.\n",
    "    \n",
    "    Args:\n",
    "        playcode (str): ID of the play.\n",
    "    \n",
    "    Returns:\n",
    "        bytes: data returned by the endpoint.\n",
    "    \n",
    "    Raises:\n",
    "        MissingPlaycode: ID of the play must be supplied.\n",
    "    ---\n",
    "    get:\n",
    "        tags:\n",
    "            - charText\n",
    "        summary: Character's Text\n",
    "        description: Returns a list of characters arranged according to amount of lines spoken, with a link to the play's spoken text, minus this character.\n",
    "        operationId: get_character_texts_minus\n",
    "        responses:\n",
    "            200:\n",
    "                description: successful. HTML page with list of characters arranged according to amount of lines spoken, with a link to each character's entire spoken text.\n",
    "                content:\n",
    "                    text/html:\n",
    "                        schema:\n",
    "                            type: string\n",
    "        parameters:\n",
    "            -   in: path\n",
    "                name: playcode\n",
    "                description: ID of the play.\n",
    "                schema: play_codes_schema\n",
    "                required: true\n",
    "    \"\"\"\n",
    "    \n",
    "    if playcode == None:\n",
    "        raise MissingPlaycode(\"A playcode is mandatory.\")\n",
    "    \n",
    "    #build the request url\n",
    "    url = SERVICE_BASE + \"/\" + playcode + \"/charTextMinus\"\n",
    "    \n",
    "    # call function to send the actual request using the get helper function\n",
    "    data = get(url, accept=\"text/html\")\n",
    "    \n",
    "    return data"
   ]
  },
  {
   "cell_type": "code",
   "execution_count": 44,
   "id": "98cc5194",
   "metadata": {},
   "outputs": [],
   "source": [
    "@api.route(\"/<path:playcode>/charTextMinus/<path:character_id>.html\", methods=[\"GET\"])\n",
    "def char_text_minus_by_character_id(playcode:str, character_id:str) -> bytes:\n",
    "    \"\"\"All others characters texts (except this character)\n",
    "    \n",
    "    returns all play's spoken text, except the text of the indicated character.\n",
    "    \n",
    "    Args:\n",
    "        playcode (str): ID of the play.\n",
    "        character_id (str): ID of the character.\n",
    "    \n",
    "    Returns:\n",
    "        bytes: data returned by the endpoint.\n",
    "    \n",
    "    Raises:\n",
    "        MissingPlaycode: ID of the play must be supplied.\n",
    "        MissingCharID: ID of the character must be supplied.\n",
    "    ---\n",
    "    get:\n",
    "        tags:\n",
    "            - charText\n",
    "        summary: Single character's text\n",
    "        description: Returns the character's entire spoken text.\n",
    "        operationId: get_all_character_text_minus_character\n",
    "        responses:\n",
    "            200:\n",
    "                description: successful. HTML page with the play's text without the text of the character.\n",
    "                content:\n",
    "                    text/html:\n",
    "                        schema:\n",
    "                            type: string\n",
    "        parameters:\n",
    "            -   in: path\n",
    "                name: playcode\n",
    "                description: ID of the play.\n",
    "                schema: play_codes_schema\n",
    "                required: true\n",
    "            -   in: path\n",
    "                name: character_id\n",
    "                description: ID of the character.\n",
    "                schema:\n",
    "                    type: string\n",
    "                required: true\n",
    "    \"\"\"\n",
    "    \n",
    "    if playcode == None:\n",
    "        raise MissingPlaycode(\"A playcode is mandatory.\")\n",
    "        \n",
    "    if character_id == None:\n",
    "        raise MissingCharID(\"An ID of a character is mandatory.\")\n",
    "    \n",
    "    #build the request url\n",
    "    url = SERVICE_BASE + \"/\" + playcode + \"/charTextMinus/\" + character_id + \".html\"\n",
    "    \n",
    "    # call function to send the actual request using the get helper function\n",
    "    data = get(url, accept=\"text/html\")\n",
    "    \n",
    "    return data"
   ]
  },
  {
   "cell_type": "markdown",
   "id": "c7cff714",
   "metadata": {},
   "source": [
    "#### `concordance`\n",
    "\n",
    "Description: lists the words used (in spoken text) and their frequency.\n",
    "\n",
    "Examples:\n",
    "* https://www.folgerdigitaltexts.org/WT/concordance/"
   ]
  },
  {
   "cell_type": "code",
   "execution_count": 45,
   "id": "92801931",
   "metadata": {},
   "outputs": [],
   "source": [
    "#Check for supported mime-types: – uncomment to run, this slows down the notebook when running all cells\n",
    "#test_accept_header_formats(\"https://www.folgerdigitaltexts.org/WT/concordance\")"
   ]
  },
  {
   "cell_type": "markdown",
   "id": "db096360",
   "metadata": {},
   "source": [
    "Returns only `text/html` – as always. The result is a list with a count and type, e.g. `756: The` ordered by frequency. We don't really know where the types a comming from and if they are somewhat preprocessed. They are probably token-types, because there are inflected forms, e.g. `5: Killed`.\n",
    "\n",
    "```\n",
    "<h2>Concordance of <i>Winter’s Tale</i>:</h2>756: The<br/>\n",
    "628: I<br/>\n",
    "623: And<br/>\n",
    "620: To<br/>\n",
    "470: Of<br/>\n",
    "449: You<br/>\n",
    "404: My<br/>\n",
    "402: A<br/>\n",
    "319: That<br/>\n",
    "305: Not<br/>\n",
    "<!-- ... -->\n",
    "1: ’shrew<br/>\n",
    "1: ’twill<br/>\n",
    "1: ’twould<br/>\n",
    "</body>\n",
    "```\n",
    "\n",
    "A `.csv` or `.tsv` would be a good format to represent it."
   ]
  },
  {
   "cell_type": "code",
   "execution_count": 46,
   "id": "b59cd729",
   "metadata": {},
   "outputs": [],
   "source": [
    "@api.route(\"/<path:playcode>/concordance\", methods=[\"GET\"])\n",
    "def concordance(playcode:str) -> bytes:\n",
    "    \"\"\"Concordance\n",
    "    \n",
    "    lists the words used (in spoken text) and their frequency.\n",
    "    \n",
    "    Args:\n",
    "        playcode (str): ID of the play.\n",
    "    \n",
    "    Returns:\n",
    "        bytes: data returned by the endpoint.\n",
    "    \n",
    "    Raises:\n",
    "        MissingPlaycode: ID of the play must be supplied.\n",
    "    ---\n",
    "    get:\n",
    "        tags:\n",
    "            - concordance\n",
    "        summary: concordance\n",
    "        description: Lists the words used (in spoken text) and their frequency.\n",
    "        operationId: get_concordance\n",
    "        responses:\n",
    "            200:\n",
    "                description: successful. HTML page with token-count and type.\n",
    "                content:\n",
    "                    text/html:\n",
    "                        schema:\n",
    "                            type: string\n",
    "        parameters:\n",
    "            -   in: path\n",
    "                name: playcode\n",
    "                description: ID of the play.\n",
    "                schema: play_codes_schema\n",
    "                required: true\n",
    "    \"\"\"\n",
    "    \n",
    "    if playcode == None:\n",
    "        raise MissingPlaycode(\"A playcode is mandatory.\")\n",
    "    \n",
    "    #build the request url\n",
    "    url = SERVICE_BASE + \"/\" + playcode + \"/concordance\"\n",
    "    \n",
    "    # call function to send the actual request using the get helper function\n",
    "    data = get(url, accept=\"text/html\")\n",
    "    \n",
    "    return data"
   ]
  },
  {
   "cell_type": "code",
   "execution_count": 47,
   "id": "e3b937dd",
   "metadata": {},
   "outputs": [
    {
     "data": {
      "text/plain": [
       "60585"
      ]
     },
     "execution_count": 47,
     "metadata": {},
     "output_type": "execute_result"
    }
   ],
   "source": [
    "#test the example: https://www.folgerdigitaltexts.org/WT/concordance\n",
    "len(concordance(\"WT\")) #this might be byes, for sure, not the number of entries!"
   ]
  },
  {
   "cell_type": "markdown",
   "id": "9c18ea2b",
   "metadata": {},
   "source": [
    "##### parsing `concordance`\n",
    "TODO: This would be an easy endpoint to parse: use a reqex to split after a number and a `:`"
   ]
  },
  {
   "cell_type": "markdown",
   "id": "ff9e049f",
   "metadata": {},
   "source": [
    "#### `monologue`\n",
    "\n",
    "Description:  (+ optional line count): provides a list of speeches longer than the given line count (defaults to 30 lines).\n",
    "\n",
    "Examples: None."
   ]
  },
  {
   "cell_type": "markdown",
   "id": "7e88d44d",
   "metadata": {},
   "source": [
    "Two examples, that can be easily constructed:\n",
    "* https://www.folgerdigitaltexts.org/WT/monologue\n",
    "* https://www.folgerdigitaltexts.org/WT/monologue/10\n",
    "\n",
    "The optional parameter `line_count` is a path parameter as well, resulting in two endpoints in the OpenAPI Documentation. \n",
    "\n",
    "In the (HTML) response there is a link to the `segment` endpoint pointing to the segment that is considered a monologue. \n",
    "\n",
    "```\n",
    "Hermione (33): <a href=\"http://www.folgerdigitaltexts.org/WT/segment/sp-1224\">Since what I am to say must be but that...</a><br/>\n",
    "```\n",
    "\n",
    "It should be fairly easy to parse. \n",
    "\n",
    "\n",
    "A challenge could be to link the segment to the character because the ID of the characer is not included. There is a label of the charater, so the ID can be guessed only: For the example above it should be something like `WT_Hermione`, bit it is not always that simple:\n",
    "\n",
    "```\n",
    "Shepherd’s Son (15): <a href=\"http://www.folgerdigitaltexts.org/WT/segment/sp-1563\">I would you did but see how it chafes,...</a><br/>\n",
    "```\n",
    "\n",
    "Either it's necessary to look at the output of a different endpoint, e.g. in the `charText` output, we can find the following character:\n",
    "\n",
    "```\n",
    "<div style=\"float:left; width: 60px;\">1597</div><div style=\"float:left;\"><a href=\"WT_ShepherdsSon.html\">ShepherdsSon</a></div><br/>\n",
    "```\n",
    "\n",
    "So the ID of the character would be `WT_ShepherdsSon`. \n",
    "\n",
    "Another option would be to follow the link included and see, if the ID of the character can be found there: the answer is NO, because https://folgerdigitaltexts.org/WT/segment/sp-1563 displays the speech, but doesn't have an ID included. This is really complicating using the endpoints programmatically.\n",
    "\n",
    "Another note on this monologue endpoint: Here we have a function, that operationalizes a concept of literary studies \"Monologue\", which is here approximated by the number of text lines.\n"
   ]
  },
  {
   "cell_type": "code",
   "execution_count": 48,
   "id": "349fcf9d",
   "metadata": {},
   "outputs": [],
   "source": [
    "#Check for supported mime-types: – uncomment to run, this slows down the notebook when running all cells\n",
    "#test_accept_header_formats(\"https://www.folgerdigitaltexts.org/WT/monologue\")"
   ]
  },
  {
   "cell_type": "code",
   "execution_count": 49,
   "id": "38790fc1",
   "metadata": {},
   "outputs": [],
   "source": [
    "# a single function, that can be used by the two endpoints?\n",
    "@api.route(\"/<path:playcode>/monologue\", methods=[\"GET\"])\n",
    "def monologue(playcode:str, line_count:int=30) -> bytes:\n",
    "    \"\"\"Monologue\n",
    "    \n",
    "    provides a list of speeches longer than the given line count (defaults to 30 lines).\n",
    "    \n",
    "    Args:\n",
    "        playcode (str): ID of the play.\n",
    "        line_count (int, optional): Number of lines. Defaults to 30.\n",
    "    \n",
    "    Returns:\n",
    "        bytes: data returned by the endpoint.\n",
    "    \n",
    "    Raises:\n",
    "        MissingPlaycode: ID of the play must be supplied.\n",
    "    ---\n",
    "    get:\n",
    "        tags:\n",
    "            - monologue\n",
    "        summary: monologue\n",
    "        description: list of speeches longer than 30 lines.\n",
    "        operationId: get_monolouges_by_30_lines\n",
    "        responses:\n",
    "            200:\n",
    "                description: successful. HTML page with segments considered a monolouge.\n",
    "                content:\n",
    "                    text/html:\n",
    "                        schema:\n",
    "                            type: string\n",
    "        parameters:\n",
    "            -   in: path\n",
    "                name: playcode\n",
    "                description: ID of the play.\n",
    "                schema: play_codes_schema\n",
    "                required: true\n",
    "    \"\"\"\n",
    "    \n",
    "    if playcode == None:\n",
    "        raise MissingPlaycode(\"A playcode is mandatory.\")\n",
    "    \n",
    "    #build the request url\n",
    "    #handle also an individual line count\n",
    "    if line_count == 30:\n",
    "        url = SERVICE_BASE + \"/\" + playcode + \"/monologue\"\n",
    "    else:\n",
    "        url = SERVICE_BASE + \"/\" + playcode + \"/monologue/\" + str(line_count)\n",
    "    \n",
    "    # call function to send the actual request using the get helper function\n",
    "    data = get(url, accept=\"text/html\")\n",
    "    \n",
    "    return data"
   ]
  },
  {
   "cell_type": "code",
   "execution_count": 50,
   "id": "9888d73b",
   "metadata": {},
   "outputs": [],
   "source": [
    "@api.route(\"/<path:playcode>/monologue/<path:line_count>\", methods=[\"GET\"])\n",
    "def monologue_by_line_count(playcode:str, line_count:int=30) -> bytes:\n",
    "    \"\"\"Monologue\n",
    "    \n",
    "    provides a list of speeches longer than the given line count (defaults to 30 lines).\n",
    "    This function does the same as ``monologue`` and is only necessary \n",
    "    to have two endpoints. \n",
    "    \n",
    "    Args:\n",
    "        playcode (str): ID of the play.\n",
    "        line_count (int, optional): Number of lines. Defaults to 30.\n",
    "    \n",
    "    Returns:\n",
    "        bytes: data returned by the endpoint.\n",
    "    \n",
    "    Raises:\n",
    "        MissingPlaycode: ID of the play must be supplied.\n",
    "    ---\n",
    "    get:\n",
    "        tags:\n",
    "            - monologue\n",
    "        summary: monologue by line count\n",
    "        description: list of speeches longer than a given line count.\n",
    "        operationId: get_monolouges_by_line_count\n",
    "        responses:\n",
    "            200:\n",
    "                description: successful. HTML page with segments considered a monolouge.\n",
    "                content:\n",
    "                    text/html:\n",
    "                        schema:\n",
    "                            type: string\n",
    "        parameters:\n",
    "            -   in: path\n",
    "                name: playcode\n",
    "                description: ID of the play.\n",
    "                schema: play_codes_schema\n",
    "                required: true\n",
    "            -   in: path\n",
    "                name: line_count\n",
    "                description: Minimum number of lines.\n",
    "                schema:\n",
    "                    type: string\n",
    "                required: true\n",
    "                example: 30\n",
    "    \"\"\"\n",
    "    #get data from the function monologue\n",
    "    data = monologue(playcode, line_count)\n",
    "    \n",
    "    return data"
   ]
  },
  {
   "cell_type": "markdown",
   "id": "fa5337ea",
   "metadata": {},
   "source": [
    "#### `onStage`\n",
    "\n",
    "Description: (+ ftln): returns a list of characters on stage at that line \n",
    "\n",
    "Examples: \n",
    "* https://www.folgerdigitaltexts.org/WT/onStage/1196"
   ]
  },
  {
   "cell_type": "code",
   "execution_count": 51,
   "id": "ce5a9838",
   "metadata": {},
   "outputs": [],
   "source": [
    "#Check for supported mime-types: – uncomment to run, this slows down the notebook when running all cells\n",
    "#test_accept_header_formats(\"https://www.folgerdigitaltexts.org/WT/onStage/1196\")"
   ]
  },
  {
   "cell_type": "markdown",
   "id": "f1a57fa4",
   "metadata": {},
   "source": [
    "Responses are `text/html` only and contain the names of the characters (no IDs, only the labels):\n",
    "\n",
    "```\n",
    "<body>\n",
    "<h2>Characters on stage at<br>line 1196 of <i>Winter’s Tale</i>:</h2>\n",
    "Cleomenes<br>\n",
    "Dion<br>\n",
    "</body>\n",
    "```\n",
    "\n",
    "It might be very easy to parse, but because the response is lacking any IDs, it is quite difficult to come up with a meaingful format."
   ]
  },
  {
   "cell_type": "code",
   "execution_count": 52,
   "id": "7737840f",
   "metadata": {},
   "outputs": [],
   "source": [
    "@api.route(\"/<path:playcode>/onStage/<path:ftln>\", methods=[\"GET\"])\n",
    "def on_stage(playcode:str, ftln:str) -> bytes:\n",
    "    \"\"\"Characters on stage\n",
    "    \n",
    "    returns a list of characters on stage at a line identified by a Folger through line number.\n",
    "    \n",
    "    Args:\n",
    "        playcode (str): ID of the play.\n",
    "        ftln (int, optional): Folger through line number (ftln).\n",
    "    \n",
    "    Returns:\n",
    "        bytes: data returned by the endpoint.\n",
    "    \n",
    "    Raises:\n",
    "        MissingPlaycode: ID of the play must be supplied.\n",
    "        MissingLineNo: Folger through line number must be supplied.\n",
    "    ---\n",
    "    get:\n",
    "        tags:\n",
    "            - onStage\n",
    "        summary: onStage\n",
    "        description: list of characters on stage at a line identified by a Folger through line number (ftln).\n",
    "        operationId: get_on_stage\n",
    "        responses:\n",
    "            200:\n",
    "                description: successful. HTML page with character names.\n",
    "                content:\n",
    "                    text/html:\n",
    "                        schema:\n",
    "                            type: string\n",
    "        parameters:\n",
    "            -   in: path\n",
    "                name: playcode\n",
    "                description: ID of the play.\n",
    "                schema: play_codes_schema\n",
    "                required: true\n",
    "            -   in: path\n",
    "                name: ftln\n",
    "                description: Folger through line number.\n",
    "                schema:\n",
    "                    type: string\n",
    "                required: true\n",
    "    \"\"\"\n",
    "    \n",
    "    if playcode == None:\n",
    "        raise MissingPlaycode(\"A playcode is mandatory.\")\n",
    "        \n",
    "    if ftln == None:\n",
    "        raise MissingLineNo(\"A line number (ftln) is mandatory.\")\n",
    "    \n",
    "    #build the request url\n",
    "    url = SERVICE_BASE + \"/\" + playcode + \"/onStage/\" + ftln\n",
    "    \n",
    "    # call function to send the actual request using the get helper function\n",
    "    data = get(url, accept=\"text/html\")\n",
    "    \n",
    "    return data"
   ]
  },
  {
   "cell_type": "code",
   "execution_count": 53,
   "id": "75d031c1",
   "metadata": {},
   "outputs": [
    {
     "data": {
      "text/plain": [
       "b'<h2>Characters on stage at<br/>line 1196 of <i>Winter\\xe2\\x80\\x99s Tale</i>:</h2>Cleomenes<br/>Dion<br/>'"
      ]
     },
     "execution_count": 53,
     "metadata": {},
     "output_type": "execute_result"
    }
   ],
   "source": [
    "#test example: https://www.folgerdigitaltexts.org/WT/onStage/1196\n",
    "on_stage(\"WT\", \"1196\")"
   ]
  },
  {
   "cell_type": "markdown",
   "id": "4d7d2578",
   "metadata": {},
   "source": [
    "#### `charChart`\n",
    "\n",
    "Description: provides a graphical representation of who is on stage across a timeline of the play.\n",
    "\n",
    "Example:\n",
    "* https://www.folgerdigitaltexts.org/WT/charChart/"
   ]
  },
  {
   "cell_type": "markdown",
   "id": "2ab35f2d",
   "metadata": {},
   "source": [
    "This endpoint returns a visualization (in html format). I is intended for humans, parsing doesn't make sense, probably."
   ]
  },
  {
   "cell_type": "code",
   "execution_count": 54,
   "id": "b9ae6e52",
   "metadata": {},
   "outputs": [],
   "source": [
    "@api.route(\"/<path:playcode>/charChart\", methods=[\"GET\"])\n",
    "def char_chart(playcode:str) -> bytes:\n",
    "    \"\"\"Timeline chart of characters\n",
    "    \n",
    "    provides a graphical representation of who is on stage across a timeline of the play.\n",
    "    \n",
    "    Args:\n",
    "        playcode (str): ID of the play.\n",
    "    \n",
    "    Returns:\n",
    "        bytes: data returned by the endpoint.\n",
    "    \n",
    "    Raises:\n",
    "        MissingPlaycode: ID of the play must be supplied.\n",
    "    ---\n",
    "    get:\n",
    "        tags:\n",
    "            - charChart\n",
    "        summary: character chart\n",
    "        description: provides a graphical representation of who is on stage across a timeline of the play.\n",
    "        operationId: get_characters_chart\n",
    "        responses:\n",
    "            200:\n",
    "                description: successful. HTML page with a graphical representation of who is on stage across a timeline.\n",
    "                content:\n",
    "                    text/html:\n",
    "                        schema:\n",
    "                            type: string\n",
    "        parameters:\n",
    "            -   in: path\n",
    "                name: playcode\n",
    "                description: ID of the play.\n",
    "                schema: play_codes_schema\n",
    "                required: true\n",
    "    \"\"\"\n",
    "    \n",
    "    if playcode == None:\n",
    "        raise MissingPlaycode(\"A playcode is mandatory.\")\n",
    "        \n",
    "    #build the request url\n",
    "    url = SERVICE_BASE + \"/\" + playcode + \"/charChart\"\n",
    "    \n",
    "    # call function to send the actual request using the get helper function\n",
    "    data = get(url, accept=\"text/html\")\n",
    "    \n",
    "    return data"
   ]
  },
  {
   "cell_type": "markdown",
   "id": "281054cb",
   "metadata": {},
   "source": [
    "#### `parts`\n",
    "\n",
    "Description: provides parts or cue scripts for each character.\n",
    "\n",
    "Examples:\n",
    "* https://www.folgerdigitaltexts.org/WT/parts/\n",
    "* https://www.folgerdigitaltexts.org/WT/parts/Dion.html\n",
    "* https://www.folgerdigitaltexts.org/WT/parts/Bear.html\n",
    "* https://www.folgerdigitaltexts.org/Mac/parts/Porter.html"
   ]
  },
  {
   "cell_type": "code",
   "execution_count": 55,
   "id": "d13df4fa",
   "metadata": {},
   "outputs": [],
   "source": [
    "#Check for supported mime-types: – uncomment to run, this slows down the notebook when running all cells\n",
    "#test_accept_header_formats(\"https://www.folgerdigitaltexts.org/WT/parts/\")"
   ]
  },
  {
   "cell_type": "markdown",
   "id": "03681543",
   "metadata": {},
   "source": [
    "Returns HTML only. There will be two endpoints in the OpenAPI documentation. The first endpoint returns list of links `<a>`, e.g. `<a href=\"Antigonus.html\">Antigonus</a><br/>` to the second endpoint. \"cue scripts\" are something very specific; should look into the TEI if this is somehow marked up; maybe it only returns the line before a character speaks or acts. To be clarified!"
   ]
  },
  {
   "cell_type": "code",
   "execution_count": 56,
   "id": "7360ec9a",
   "metadata": {},
   "outputs": [],
   "source": [
    "@api.route(\"/<path:playcode>/parts\", methods=[\"GET\"])\n",
    "def parts(playcode:str) -> bytes:\n",
    "    \"\"\"parts or cue scripts\n",
    "    \n",
    "    provides parts or cue scripts for each character.\n",
    "    \n",
    "    Args:\n",
    "        playcode (str): ID of the play.\n",
    "    \n",
    "    Returns:\n",
    "        bytes: data returned by the endpoint.\n",
    "    \n",
    "    Raises:\n",
    "        MissingPlaycode: ID of the play must be supplied.\n",
    "    ---\n",
    "    get:\n",
    "        tags:\n",
    "            - parts\n",
    "        summary: parts for each character\n",
    "        description: provides parts or cue scripts for each character.\n",
    "        operationId: get_list_of_character_parts\n",
    "        responses:\n",
    "            200:\n",
    "                description: successful. HTML page with links to cue scripts for the characters of a play.\n",
    "                content:\n",
    "                    text/html:\n",
    "                        schema:\n",
    "                            type: string\n",
    "        parameters:\n",
    "            -   in: path\n",
    "                name: playcode\n",
    "                description: ID of the play.\n",
    "                schema: play_codes_schema\n",
    "                required: true\n",
    "    \"\"\"\n",
    "    \n",
    "    if playcode == None:\n",
    "        raise MissingPlaycode(\"A playcode is mandatory.\")\n",
    "        \n",
    "    #build the request url\n",
    "    url = SERVICE_BASE + \"/\" + playcode + \"/parts\"\n",
    "    \n",
    "    # call function to send the actual request using the get helper function\n",
    "    data = get(url, accept=\"text/html\")\n",
    "    \n",
    "    return data"
   ]
  },
  {
   "cell_type": "code",
   "execution_count": 57,
   "id": "323d7600",
   "metadata": {},
   "outputs": [],
   "source": [
    "@api.route(\"/<path:playcode>/parts/<path:character>.html\", methods=[\"GET\"])\n",
    "def parts_of_character(playcode:str, character:str) -> bytes:\n",
    "    \"\"\"parts or cue scripts for a character\n",
    "    \n",
    "    provides parts or cue scripts for a single character.\n",
    "    \n",
    "    Args:\n",
    "        playcode (str): ID of the play.\n",
    "        character (str): Identifier of the character.\n",
    "            Could also be the name. It is not {playcode}_{character}, but only the label.\n",
    "    \n",
    "    Returns:\n",
    "        bytes: data returned by the endpoint.\n",
    "    \n",
    "    Raises:\n",
    "        MissingPlaycode: ID of the play must be supplied.\n",
    "        MissingCharacter: A character must be supplied.\n",
    "    ---\n",
    "    get:\n",
    "        tags:\n",
    "            - parts\n",
    "        summary: parts for character\n",
    "        description: provides parts or cue scripts for a single character.\n",
    "        operationId: get_parts_of_character\n",
    "        responses:\n",
    "            200:\n",
    "                description: successful. HTML page with links to cue scripts for a single characters of a play.\n",
    "                content:\n",
    "                    text/html:\n",
    "                        schema:\n",
    "                            type: string\n",
    "        parameters:\n",
    "            -   in: path\n",
    "                name: playcode\n",
    "                description: ID of the play.\n",
    "                schema: play_codes_schema\n",
    "                required: true\n",
    "            -   in: path\n",
    "                name: character\n",
    "                description: Name (?) of a character. Not in the ID-format {playcode}_{character}, but only the label.\n",
    "                schema:\n",
    "                    type: string\n",
    "                required: true\n",
    "    \"\"\"\n",
    "    \n",
    "    if playcode == None:\n",
    "        raise MissingPlaycode(\"A playcode is mandatory.\")\n",
    "    \n",
    "    if character == None:\n",
    "        raise MissingCharacter(\"A character is mandatory.\")\n",
    "        \n",
    "    #build the request url\n",
    "    url = SERVICE_BASE + \"/\" + playcode + \"/parts/\" + character + \".html\"\n",
    "    \n",
    "    # call function to send the actual request using the get helper function\n",
    "    data = get(url, accept=\"text/html\")\n",
    "    \n",
    "    return data"
   ]
  },
  {
   "cell_type": "markdown",
   "id": "9c2d8996",
   "metadata": {},
   "source": [
    "In the Swagger Editor, we have a connection or somewhat else error \"Failed to fetch.\" It's the same for the `charChart` and the `charText` like endpoints. It has often something to do with characters, also the `.html` ending is something suspicious. This might have something to do with the SwaggerEditor at https://editor.swagger.io/, must test this in a different setting."
   ]
  },
  {
   "cell_type": "code",
   "execution_count": 58,
   "id": "bee94d3c",
   "metadata": {},
   "outputs": [],
   "source": [
    "# It works here:\n",
    "#parts_of_character(\"Ham\", \"Hamlet\")"
   ]
  },
  {
   "cell_type": "markdown",
   "id": "0832e9ac",
   "metadata": {},
   "source": [
    "#### `witScript`\n",
    "\n",
    "Description: provides \"witScripts\" for each character. \"Witness\" or \"Witmore\" scripts attempt to show what a character sees. They offer the play text only when that character is on stage.\n",
    "\n",
    "Examples:\n",
    "* https://www.folgerdigitaltexts.org/Ham/witScript/\n",
    "* https://www.folgerdigitaltexts.org/Ham/witScript/Polonius.html"
   ]
  },
  {
   "cell_type": "code",
   "execution_count": 59,
   "id": "81807949",
   "metadata": {},
   "outputs": [],
   "source": [
    "#Check for supported mime-types: – uncomment to run, this slows down the notebook when running all cells\n",
    "#test_accept_header_formats(\"https://www.folgerdigitaltexts.org/Ham/witScript/\")"
   ]
  },
  {
   "cell_type": "markdown",
   "id": "8bab5f54",
   "metadata": {},
   "source": [
    "Endpoint returns HTML only. The first endpoint offers a list with links to the witness scripts. The second endpoint returns the witness script for a given character:\n",
    "\n",
    "```\n",
    "<body>\n",
    "<a href=\"AMBASSADORS.html\">AMBASSADORS</a><br/>\n",
    "<!-- ...-->\n",
    "</body>\n",
    "```\n",
    "\n",
    "The response would be easy to parse; In general it is similar to the endpoint `parts`. Very specific and research driven functionality.\n",
    "\n",
    "Same problem with the Swagger Editor."
   ]
  },
  {
   "cell_type": "code",
   "execution_count": 60,
   "id": "8cf0f06c",
   "metadata": {},
   "outputs": [],
   "source": [
    "@api.route(\"/<path:playcode>/witScript\", methods=[\"GET\"])\n",
    "def wit_script(playcode:str) -> bytes:\n",
    "    \"\"\"Witness scripts\n",
    "    \n",
    "    provides links to \"witScripts\" for each character. \"Witness\" or \"Witmore\" scripts attempt to show what a character sees. \n",
    "    They offer the play text only when that character is on stage.\n",
    "    \n",
    "    Args:\n",
    "        playcode (str): ID of the play.\n",
    "    \n",
    "    Returns:\n",
    "        bytes: data returned by the endpoint.\n",
    "    \n",
    "    Raises:\n",
    "        MissingPlaycode: ID of the play must be supplied.\n",
    "    ---\n",
    "    get:\n",
    "        tags:\n",
    "            - witScript\n",
    "        summary: witness scripts for each character\n",
    "        description: provides links to witness scripts for each character.\n",
    "        operationId: get_list_of_witness_scripts\n",
    "        responses:\n",
    "            200:\n",
    "                description: successful. HTML page with links to witness scripts for the characters of a play.\n",
    "                content:\n",
    "                    text/html:\n",
    "                        schema:\n",
    "                            type: string\n",
    "        parameters:\n",
    "            -   in: path\n",
    "                name: playcode\n",
    "                description: ID of the play.\n",
    "                schema: play_codes_schema\n",
    "                required: true\n",
    "    \"\"\"\n",
    "    \n",
    "    if playcode == None:\n",
    "        raise MissingPlaycode(\"A playcode is mandatory.\")\n",
    "        \n",
    "    #build the request url\n",
    "    url = SERVICE_BASE + \"/\" + playcode + \"/witScript\"\n",
    "    \n",
    "    # call function to send the actual request using the get helper function\n",
    "    data = get(url, accept=\"text/html\")\n",
    "    \n",
    "    return data"
   ]
  },
  {
   "cell_type": "code",
   "execution_count": 61,
   "id": "1f37679e",
   "metadata": {},
   "outputs": [],
   "source": [
    "@api.route(\"/<path:playcode>/witScript/<path:character>.html\", methods=[\"GET\"])\n",
    "def wit_script_of_character(playcode:str, character:str) -> bytes:\n",
    "    \"\"\"Witness script for a character\n",
    "    \n",
    "    provides a \"Witness\" or \"Witmore\" script for a given character. \"witScripts\" attempt to show what a character sees. \n",
    "    They offer the play text only when that character is on stage.\n",
    "    \n",
    "    Args:\n",
    "        playcode (str): ID of the play.\n",
    "        character (str): Identifier of the character.\n",
    "            Could also be the name. It is not {playcode}_{character}, but only the label.\n",
    "    \n",
    "    Returns:\n",
    "        bytes: data returned by the endpoint.\n",
    "    \n",
    "    Raises:\n",
    "        MissingPlaycode: ID of the play must be supplied.\n",
    "        MissingCharacter: A character must be supplied.\n",
    "    ---\n",
    "    get:\n",
    "        tags:\n",
    "            - witScript\n",
    "        summary: witness script for a character\n",
    "        description: provides a \"Witness\" or \"Witmore\" script for a given character. \"witScripts\" attempt to show what a character sees. \n",
    "            They offer the play text only when that character is on stage.\n",
    "        operationId: get_witness_script_of_character\n",
    "        responses:\n",
    "            200:\n",
    "                description: successful. HTML page with links to the witness script for a single characters of a play.\n",
    "                content:\n",
    "                    text/html:\n",
    "                        schema:\n",
    "                            type: string\n",
    "        parameters:\n",
    "            -   in: path\n",
    "                name: playcode\n",
    "                description: ID of the play.\n",
    "                schema: play_codes_schema\n",
    "                required: true\n",
    "            -   in: path\n",
    "                name: character\n",
    "                description: Name (?) of a character. Not in the ID-format {playcode}_{character}, but only the label.\n",
    "                schema:\n",
    "                    type: string\n",
    "                required: true\n",
    "    \"\"\"\n",
    "    \n",
    "    if playcode == None:\n",
    "        raise MissingPlaycode(\"A playcode is mandatory.\")\n",
    "    \n",
    "    if character == None:\n",
    "        raise MissingCharacter(\"A character is mandatory.\")\n",
    "        \n",
    "    #build the request url\n",
    "    url = SERVICE_BASE + \"/\" + playcode + \"/witScript/\" + character + \".html\"\n",
    "    \n",
    "    # call function to send the actual request using the get helper function\n",
    "    data = get(url, accept=\"text/html\")\n",
    "    \n",
    "    return data"
   ]
  },
  {
   "cell_type": "code",
   "execution_count": 62,
   "id": "078bd93c",
   "metadata": {},
   "outputs": [
    {
     "data": {
      "text/plain": [
       "b'<html>\\r\\n<head>\\r\\n<meta charset=\\'utf-8\\'>\\r\\n</head>\\r\\n<body>\\r\\n<a href=\"AMBASSADORS.html\">AMBASSADORS</a><br/>\\r\\n<a href=\"ATTENDANTS.html\">ATTENDANTS</a><br/>\\r\\n&nbsp;&nbsp;<a href=\"ATTENDANTS.1.html\">ATTENDANTS.1</a><br/>\\r\\n&nbsp;&nbsp;<a href=\"ATTENDANTS.2.html\">ATTENDANTS.2</a><br/>\\r\\n&nbsp;&nbsp;<a href=\"ATTENDANTS.GENTLEMEN.html\">ATTENDANTS.GENTLEMEN</a><br/>\\r\\n<a href=\"ATTENDANTS.GUARDS.html\">ATTENDANTS.GUARDS</a><br/>\\r\\n<a href=\"Barnardo.html\">Barnardo</a><br/>\\r\\n<a href=\"Claudius.html\">Claudius</a><br/>\\r\\n<a href=\"Cornelius.html\">Cornelius</a><br/>\\r\\n<a href=\"Doctor.html\">Doctor</a><br/>\\r\\n<a href=\"FOLLOWERS.LAERTES.html\">FOLLOWERS.LAERTES</a><br/>\\r\\n<a href=\"Fortinbras.html\">Fortinbras</a><br/>\\r\\n<a href=\"Francisco.html\">Francisco</a><br/>\\r\\n<a href=\"Gertrude.html\">Gertrude</a><br/>\\r\\n<a href=\"Ghost.html\">Ghost</a><br/>\\r\\n<a href=\"Gravedigger.html\">Gravedigger</a><br/>\\r\\n<a href=\"GravediggersCompanion.html\">GravediggersCompanion</a><br/>\\r\\n<a href=\"Guildenstern.html\">Guildenstern</a><br/>\\r\\n<a href=\"Hamlet.html\">Hamlet</a><br/>\\r\\n<a href=\"Horatio.html\">Horatio</a><br/>\\r\\n<a href=\"Laertes.html\">Laertes</a><br/>\\r\\n(MESSENGERS)<br/>\\r\\n&nbsp;&nbsp;<a href=\"MESSENGERS.1.html\">MESSENGERS.1</a><br/>\\r\\n&nbsp;&nbsp;<a href=\"MESSENGERS.2.html\">MESSENGERS.2</a><br/>\\r\\n<a href=\"Marcellus.html\">Marcellus</a><br/>\\r\\n<a href=\"Ophelia.html\">Ophelia</a><br/>\\r\\n<a href=\"Osric.html\">Osric</a><br/>\\r\\n<a href=\"PLAYERS.html\">PLAYERS</a><br/>\\r\\n&nbsp;&nbsp;<a href=\"PLAYERS.1.html\">PLAYERS.1</a><br/>\\r\\n&nbsp;&nbsp;<a href=\"PLAYERS.King.html\">PLAYERS.King</a><br/>\\r\\n&nbsp;&nbsp;<a href=\"PLAYERS.Lucianus.html\">PLAYERS.Lucianus</a><br/>\\r\\n&nbsp;&nbsp;<a href=\"PLAYERS.Prologue.html\">PLAYERS.Prologue</a><br/>\\r\\n&nbsp;&nbsp;<a href=\"PLAYERS.Queen.html\">PLAYERS.Queen</a><br/>\\r\\n<a href=\"Polonius.html\">Polonius</a><br/>\\r\\n<a href=\"Reynaldo.html\">Reynaldo</a><br/>\\r\\n<a href=\"Rosencrantz.html\">Rosencrantz</a><br/>\\r\\n<a href=\"SAILORS.html\">SAILORS</a><br/>\\r\\n(SOLDIERS)<br/>\\r\\n&nbsp;&nbsp;<a href=\"SOLDIERS.FORTINBRAS.html\">SOLDIERS.FORTINBRAS</a><br/>\\r\\n&nbsp;&nbsp;&nbsp;&nbsp;<a href=\"SOLDIERS.FORTINBRAS.Captain.html\">SOLDIERS.FORTINBRAS.Captain</a><br/>\\r\\n<a href=\"Voltemand.html\">Voltemand</a><br/>\\r\\n</body></html>\\r\\n\\r\\r\\n'"
      ]
     },
     "execution_count": 62,
     "metadata": {},
     "output_type": "execute_result"
    }
   ],
   "source": [
    "#testing example: https://www.folgerdigitaltexts.org/Ham/witScript\n",
    "wit_script(\"Ham\")"
   ]
  },
  {
   "cell_type": "code",
   "execution_count": 63,
   "id": "0c5b159e",
   "metadata": {},
   "outputs": [
    {
     "data": {
      "text/plain": [
       "87719"
      ]
     },
     "execution_count": 63,
     "metadata": {},
     "output_type": "execute_result"
    }
   ],
   "source": [
    "#testing https://www.folgerdigitaltexts.org/Ham/witScript/Polonius.html:\n",
    "len(wit_script_of_character(\"Ham\",\"Polonius\"))"
   ]
  },
  {
   "cell_type": "markdown",
   "id": "a37affa8",
   "metadata": {},
   "source": [
    "#### `sounds`\n",
    "\n",
    "Description: returns a list of all stage directions that contain sounds (i.e., \"music,\" \"flourish,\" \"thunder\").\n",
    "\n",
    "Examples: None."
   ]
  },
  {
   "cell_type": "markdown",
   "id": "791099e9",
   "metadata": {},
   "source": [
    "We use this example for testing: https://www.folgerdigitaltexts.org/Ham/sounds"
   ]
  },
  {
   "cell_type": "code",
   "execution_count": 64,
   "id": "77225b4c",
   "metadata": {},
   "outputs": [],
   "source": [
    "#Check for supported mime-types: – uncomment to run, this slows down the notebook when running all cells\n",
    "#test_accept_header_formats(\"https://www.folgerdigitaltexts.org/Ham/sounds\")"
   ]
  },
  {
   "cell_type": "markdown",
   "id": "6f798176",
   "metadata": {},
   "source": [
    "The endpoint returns HTML only. \n",
    "\n",
    "```\n",
    "<h2>Sounds in <i>Hamlet</i>:</h2>SD 1.2.0: Flourish (flourish): \n",
    "Flourish\n",
    ".\n",
    "<br/>SD 1.2.132.1: Flourish (flourish): \n",
    "Flourish\n",
    ".\n",
    "<br/>\n",
    "<!-- .. -->\n",
    "```\n",
    "\n",
    "`SD 1.2.132.1` somehow references a stage direction, but in the response, there is no link included that would allow a client to access this stage direction. Do we have a stage direction endpoint? No."
   ]
  },
  {
   "cell_type": "code",
   "execution_count": 65,
   "id": "21860c38",
   "metadata": {},
   "outputs": [],
   "source": [
    "@api.route(\"/<path:playcode>/sounds\", methods=[\"GET\"])\n",
    "def sounds(playcode:str) -> bytes:\n",
    "    \"\"\"Sounds\n",
    "    \n",
    "    returns a list of all stage directions that contain sounds (i.e., \"music,\" \"flourish,\" \"thunder\").\n",
    "    \n",
    "    Args:\n",
    "        playcode (str): ID of the play.\n",
    "    \n",
    "    Returns:\n",
    "        bytes: data returned by the endpoint.\n",
    "    \n",
    "    Raises:\n",
    "        MissingPlaycode: ID of the play must be supplied.\n",
    "    ---\n",
    "    get:\n",
    "        tags:\n",
    "            - sounds\n",
    "        summary: sounds\n",
    "        description: returns a list of all stage directions that contain sounds (i.e., \"music,\" \"flourish,\" \"thunder\").\n",
    "        operationId: get_sounds\n",
    "        responses:\n",
    "            200:\n",
    "                description: successful. HTML page with stage directions that contain sounds.\n",
    "                content:\n",
    "                    text/html:\n",
    "                        schema:\n",
    "                            type: string\n",
    "        parameters:\n",
    "            -   in: path\n",
    "                name: playcode\n",
    "                description: ID of the play.\n",
    "                schema: play_codes_schema\n",
    "                required: true\n",
    "    \"\"\"\n",
    "    \n",
    "    if playcode == None:\n",
    "        raise MissingPlaycode(\"A playcode is mandatory.\")\n",
    "        \n",
    "    #build the request url\n",
    "    url = SERVICE_BASE + \"/\" + playcode + \"/sounds\"\n",
    "    \n",
    "    # call function to send the actual request using the get helper function\n",
    "    data = get(url, accept=\"text/html\")\n",
    "    \n",
    "    return data"
   ]
  },
  {
   "cell_type": "code",
   "execution_count": 66,
   "id": "90a742bd",
   "metadata": {},
   "outputs": [
    {
     "data": {
      "text/plain": [
       "b'<h2>Sounds in <i>Hamlet</i>:</h2>SD 1.2.0: Flourish (flourish): \\nFlourish\\n.\\n<br/>SD 1.2.132.1: Flourish (flourish): \\nFlourish\\n.\\n<br/>SD 1.4.7.1: Flourish (trumpet ordnance): \\nA\\n \\nflourish\\n \\nof\\n \\ntrumpets\\n \\nand\\n \\ntwo\\n \\npieces\\n \\ngoes\\n \\noff\\n.\\n<br/>SD 2.2.0: Flourish (flourish): \\nFlourish\\n.\\n<br/>SD 2.2.391.1: Flourish (flourish): \\nA\\n \\nflourish\\n \\nfor\\n \\nthe\\n \\nPlayers\\n.\\n<br/>SD 3.2.95.1: Flourish (flourish): \\nSound\\n \\na\\n \\nflourish\\n.\\n<br/>SD 3.2.97.1: Flourish (trumpet drum): \\nEnter\\n \\nTrumpets\\n \\nand\\n \\nKettle\\n \\nDrums\\n.\\n<br/>SD 3.2.144.1: Flourish (trumpet): \\nThe\\n \\ntrumpets\\n \\nsounds\\n.\\n<br/>SD 5.2.238.1: Flourish (trumpet drum): \\nTrumpets\\n,\\n \\nDrums\\n<br/>SD 5.2.298.1: Flourish (trumpet): \\nTrumpets\\n \\nthe\\n \\nwhile\\n.\\n<br/>SD 5.2.301.2: Flourish (drum trumpet ordnance): \\nDrum\\n,\\n \\ntrumpets\\n,\\n \\nand\\n \\nshot\\n.\\n<br/>SD 5.2.384.1: Military (march drum ordnance): \\nA\\n \\nmarch\\n \\nafar\\n \\noff\\n \\nand\\n \\nshot\\n \\nwithin\\n.\\n<br/>SD 5.2.398.1: Military (march drum): \\nMarch\\n \\nwithin\\n.\\n<br/>SD 5.2.399.1: Military (drum): \\nDrum\\n,\\n<br/>'"
      ]
     },
     "execution_count": 66,
     "metadata": {},
     "output_type": "execute_result"
    }
   ],
   "source": [
    "#testing the example\n",
    "sounds(\"Ham\")"
   ]
  },
  {
   "cell_type": "markdown",
   "id": "5ad8c7d8",
   "metadata": {},
   "source": [
    "## Setting up the OpenAPI Documentation"
   ]
  },
  {
   "cell_type": "code",
   "execution_count": 67,
   "id": "cc57def0",
   "metadata": {},
   "outputs": [],
   "source": [
    "#Where does this show up?\n",
    "INFO = dict(\n",
    "        description=\"\"\"\n",
    "        This is an unoffical documentation of the API of the Folger Shakespeare Project.\n",
    "        The offical documentation can be found here: https://www.folgerdigitaltexts.org/api.\n",
    "        \"\"\".strip() ,\n",
    "        version=\"1.0\",\n",
    "        contact=dict(\n",
    "            name=\"Folger Shakespeare Project\",\n",
    "            email=\"info@folger.edu\"\n",
    "            ), \n",
    "        license=dict(\n",
    "            name=\"License Unknown\",\n",
    "            url='None'\n",
    "            )\n",
    "        )"
   ]
  },
  {
   "cell_type": "code",
   "execution_count": 68,
   "id": "b254ddd5",
   "metadata": {},
   "outputs": [],
   "source": [
    "#Description of the Servers\n",
    "SERVERS = [\n",
    "        dict(\n",
    "            description=\"Folger API\",\n",
    "            url=SERVICE_BASE\n",
    "            )\n",
    "        ]"
   ]
  },
  {
   "cell_type": "code",
   "execution_count": 69,
   "id": "4abaf3a5",
   "metadata": {},
   "outputs": [],
   "source": [
    "# Tags\n",
    "# Because some of the endpoints are split up due to path-variables,\n",
    "# we can define tags to bundle them in the documentation.\n",
    "TAGS = [\n",
    "    dict(\n",
    "        name=\"synopsis\",\n",
    "        description=\"synopsis of the play and its scenes\"\n",
    "    ),\n",
    "    dict(\n",
    "        name=\"ftln\",\n",
    "        description=\"text at Folger through line number\"\n",
    "    ),\n",
    "    dict(\n",
    "        name=\"word\",\n",
    "        description=\"information about a word\"\n",
    "    ),\n",
    "    dict(\n",
    "        name=\"segment\",\n",
    "        description=\"text of a segment identified by xml:id\"\n",
    "    ),\n",
    "    dict(\n",
    "        name=\"text\",\n",
    "        description=\"spoken text in a play\"\n",
    "    ),\n",
    "    dict(\n",
    "        name=\"charText\",\n",
    "        description=\"character's text\"\n",
    "    ),\n",
    "    dict(\n",
    "        name=\"concordance\",\n",
    "        description=\"words used (in spoken text) and their frequency\"\n",
    "    ),\n",
    "    dict(\n",
    "        name=\"monologue\",\n",
    "        description=\"speeches longer than the given line count\"\n",
    "    ),\n",
    "    dict(\n",
    "        name=\"onStage\",\n",
    "        description=\"characters on stage\"\n",
    "    ),\n",
    "    dict(\n",
    "        name=\"charChart\",\n",
    "        description=\"character chart\"\n",
    "    ),\n",
    "    dict(\n",
    "        name=\"parts\",\n",
    "        description=\"parts/cue scripts\"\n",
    "    ),\n",
    "    dict(\n",
    "        name=\"witScript\",\n",
    "        description=\"witness scripts\"\n",
    "    ),\n",
    "    dict(\n",
    "        name=\"sounds\",\n",
    "        description=\"sounds\"\n",
    "    )\n",
    "]"
   ]
  },
  {
   "cell_type": "code",
   "execution_count": 70,
   "id": "86b3a943",
   "metadata": {},
   "outputs": [],
   "source": [
    "#Gernerate the API Specification\n",
    "spec = APISpec(\n",
    "    title=\"Folger Shakespeare API Tools\",\n",
    "    version=\"1.0\",\n",
    "    openapi_version=\"3.0.3\",\n",
    "    info = INFO,\n",
    "    servers = SERVERS,\n",
    "    externalDocs=dict(\n",
    "            description=\"OpenAPI Documentation\",\n",
    "            url=\"https://github.com/ingoboerner/folger-shakespeare-openapi\"\n",
    "        ),\n",
    "    tags = TAGS,\n",
    "    plugins=[FlaskPlugin(), MarshmallowPlugin()]\n",
    ")"
   ]
  },
  {
   "cell_type": "code",
   "execution_count": 71,
   "id": "6ffefa2d",
   "metadata": {},
   "outputs": [],
   "source": [
    "with api.test_request_context():\n",
    "    #spec.path(view=synopsis) #this is the legacy synopsis function which was replace by 3\n",
    "    spec.path(view=synopsis_of_play)\n",
    "    spec.path(view=synopsis_of_act)\n",
    "    spec.path(view=synopsis_of_scene)\n",
    "    spec.path(view=ftln)\n",
    "    spec.path(view=word)\n",
    "    spec.path(view=segment)\n",
    "    spec.path(view=text)\n",
    "    spec.path(view=char_text)\n",
    "    spec.path(view=char_text_by_character_id)\n",
    "    spec.path(view=char_text_minus)\n",
    "    spec.path(view=char_text_minus_by_character_id)\n",
    "    spec.path(view=concordance)\n",
    "    spec.path(view=monologue)\n",
    "    spec.path(view=monologue_by_line_count)\n",
    "    spec.path(view=on_stage)\n",
    "    spec.path(view=char_chart)\n",
    "    spec.path(view=parts)\n",
    "    spec.path(view=parts_of_character)\n",
    "    spec.path(view=wit_script)\n",
    "    spec.path(view=wit_script_of_character)\n",
    "    spec.path(view=sounds)\n",
    "    "
   ]
  },
  {
   "cell_type": "markdown",
   "id": "54bb44e5",
   "metadata": {},
   "source": [
    "## Exporting the OpenAPI Documentation"
   ]
  },
  {
   "cell_type": "code",
   "execution_count": 72,
   "id": "70885514",
   "metadata": {},
   "outputs": [],
   "source": [
    "#write the specification as JSON\n",
    "with open('openapi.json', 'w') as f:\n",
    "    json.dump(spec.to_dict(), f)"
   ]
  },
  {
   "cell_type": "code",
   "execution_count": 73,
   "id": "6a6f1561",
   "metadata": {},
   "outputs": [],
   "source": [
    "#write the specification as YAML\n",
    "with open('openapi.yaml', 'w') as f:\n",
    "    f.write(spec.to_yaml())"
   ]
  },
  {
   "cell_type": "code",
   "execution_count": null,
   "id": "00d5f9d9",
   "metadata": {},
   "outputs": [],
   "source": []
  }
 ],
 "metadata": {
  "kernelspec": {
   "display_name": "Python 3 (ipykernel)",
   "language": "python",
   "name": "python3"
  },
  "language_info": {
   "codemirror_mode": {
    "name": "ipython",
    "version": 3
   },
   "file_extension": ".py",
   "mimetype": "text/x-python",
   "name": "python",
   "nbconvert_exporter": "python",
   "pygments_lexer": "ipython3",
   "version": "3.9.12"
  }
 },
 "nbformat": 4,
 "nbformat_minor": 5
}
